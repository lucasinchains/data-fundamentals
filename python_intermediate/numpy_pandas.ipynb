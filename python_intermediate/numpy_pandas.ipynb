{
 "cells": [
  {
   "cell_type": "code",
   "execution_count": 4,
   "metadata": {},
   "outputs": [
    {
     "name": "stdout",
     "output_type": "stream",
     "text": [
      "['Once upon a m', 'dn', 'ght when ', ' pondered \\n H', ' these ', 's j', 'nesh']\n",
      "['1 2 3 4 ', ' 6 7 8 9']\n",
      "01/01/2023\n",
      "s ads\n"
     ]
    },
    {
     "data": {
      "text/plain": [
       "'he'"
      ]
     },
     "execution_count": 4,
     "metadata": {},
     "output_type": "execute_result"
    }
   ],
   "source": [
    "############# DATA CLEANING\n",
    "## STRING METHODS\n",
    "\n",
    "mystring= \"Once upon a midnight when i pondered \\n Hi these is jinesh\"\n",
    "## SPLIT METHOD puts each element of a string into a list. We can pass a tring argument and it will split the string where the it appears.\n",
    "a =mystring.split('i')   \n",
    "print(a) \n",
    "mystringtemp=\"1 2 3 4 5 6 7 8 9\"\n",
    "b = mystringtemp.split('5')\n",
    "print(b)\n",
    "\n",
    "## JOIN() METHOD concats any number of strings with a given pattern\n",
    "dateList = ['01', '01', '2023']\n",
    "print('/'.join(dateList))\n",
    "\n",
    "## STRIP() METHOD removes spaces at the beginning and end of a string\n",
    "string2 = '  s ads     '\n",
    "print(string2.strip())\n",
    "\n",
    "##  startswith(string) returns True or False\n",
    "'Name of user is Lucas'.startswith('Name')\n",
    "\n",
    "## returning a Tuple of booleans\n",
    "'ea' in 'team', 'f' in 'team'\n",
    "\n",
    "## SLICE(start, finish, step)\n",
    "c = 'hello'\n",
    "slice_obj = slice(2)\n",
    "c[slice_obj] ## output = 'he'"
   ]
  },
  {
   "cell_type": "code",
   "execution_count": 13,
   "metadata": {},
   "outputs": [
    {
     "name": "stdout",
     "output_type": "stream",
     "text": [
      "['06/03/2019', '07/03/2019', '08/03/2019', '09/03/2019', '10/03/2019']\n",
      "['242342', '2423342', '24243342', '23442342', '24233442']\n",
      "['London', 'London', 'London', 'London', 'London']\n"
     ]
    }
   ],
   "source": [
    "## STRING METHODs practice\n",
    "list_of_Account=['Acc1.ID242342 : London . 06/03/2019',\n",
    "                 'Acc1.ID2423342 : London . 07/03/2019',\n",
    "                 'banana',\n",
    "                 'Acc1.ID24243342 : London . 08/03/2019',\n",
    "                 'Acc1.ID23442342 : London . 09/03/2019',\n",
    "                 'Acc1.ID24233442 : London . 10/03/2019']\n",
    "\n",
    "\n",
    "## we first separate the string into list items whenever a \".\" shows, then extract the last element of the list\n",
    "dates = [string.split('.')[-1].strip() for string in list_of_Account if string.startswith('Acc')]\n",
    "print(dates)\n",
    "\n",
    "## geting the acounts IDs\n",
    "account_id = [string.split('ID')[1].split(':')[0].strip() for string in list_of_Account if string.startswith('Acc') == True]\n",
    "print(account_id)\n",
    "\n",
    "## getting location\n",
    "account_location = [string.split(':')[1].split('.')[0].strip() for string in list_of_Account if string.startswith('Acc') == True]\n",
    "print(account_location)"
   ]
  },
  {
   "cell_type": "code",
   "execution_count": null,
   "metadata": {},
   "outputs": [],
   "source": [
    "## NUMPY INTRO\n",
    "def makeMatrix(n_rows, n_columns):\n",
    "    return [list(range(i*n_columns, n_columns*(i + 1))) for i in range(n_rows)]\n",
    "\n",
    "test_data = makeMatrix(40, 5)"
   ]
  },
  {
   "cell_type": "code",
   "execution_count": 30,
   "metadata": {},
   "outputs": [
    {
     "name": "stdout",
     "output_type": "stream",
     "text": [
      "6.25 µs ± 198 ns per loop (mean ± std. dev. of 7 runs, 100,000 loops each)\n"
     ]
    }
   ],
   "source": [
    "%%timeit ## testing execution time with list\n",
    "sum([sum(r) for r in test_data])"
   ]
  },
  {
   "cell_type": "code",
   "execution_count": null,
   "metadata": {},
   "outputs": [],
   "source": [
    "pip install numpy ## installing numpy"
   ]
  },
  {
   "cell_type": "code",
   "execution_count": null,
   "metadata": {},
   "outputs": [],
   "source": [
    "import numpy as np ## IMPORTING NUMPY PACKAGE\n",
    "test_array = np.array(test_data) ## USING ARRAY() METHOD TO CREATE AN ARRAY"
   ]
  },
  {
   "cell_type": "code",
   "execution_count": 25,
   "metadata": {},
   "outputs": [
    {
     "name": "stdout",
     "output_type": "stream",
     "text": [
      "2.34 µs ± 128 ns per loop (mean ± std. dev. of 7 runs, 100,000 loops each)\n"
     ]
    }
   ],
   "source": [
    "%%timeit ## timing execution time with array\n",
    "test_array.sum() ## summing elemtns of a array takes way shorter that doing it with lists. Arrays are more efficent to work with numbers"
   ]
  },
  {
   "cell_type": "code",
   "execution_count": 53,
   "metadata": {},
   "outputs": [
    {
     "name": "stdout",
     "output_type": "stream",
     "text": [
      "[1 2 3 4 5]\n",
      "3\n",
      "3\n",
      "(5,)\n",
      "(3, 3)\n",
      "int32\n",
      "[ 2  4  6  8 10]\n",
      "15\n",
      "[[1 4 7]\n",
      " [2 5 8]\n",
      " [3 6 9]]\n",
      "[1.+0.j 2.+0.j 3.+0.j]\n"
     ]
    }
   ],
   "source": [
    "## NDARRAY -> multidimensional array introduced in NumPy (numerical Python) -> all elements of this type of data structure are of the same type.\n",
    "import numpy as np\n",
    "arr = np.array([1,2,3,4,5])\n",
    "print(arr)\n",
    "\n",
    "arr2d=np.array([[1,2,3],[4,5,6],[7,8,9]])\n",
    "## print(arr2d)\n",
    "## print(arr[3])   # array scaler gettig one element from numpy array\n",
    "print(arr2d[0][2]) ## accessing multid arrays\n",
    "print(arr2d[0,2]) ## same as line above\n",
    "\n",
    "print(arr.shape)    # get the size of row\n",
    "print(arr2d.shape)   # get the size of row and columns\n",
    "print(arr.dtype)   # get the data type\n",
    "\n",
    "# these is for mutiplying 2 with the array elements\n",
    "arr_squared = arr *2\n",
    "print(arr_squared)\n",
    "# these code is for calculating array sum\n",
    "arr_Sum=np.sum(arr)\n",
    "print(arr_Sum)\n",
    "\n",
    "# these code is for doing numpy transpose of matrix\n",
    "arr2d_transpose=np.transpose(arr2d)\n",
    "print(arr2d_transpose)\n",
    "\n",
    "## COMPLEX NUMBERS\n",
    "acomplex=np.array([1,2,3],dtype=\"complex\")\n",
    "print(acomplex)"
   ]
  },
  {
   "cell_type": "code",
   "execution_count": 42,
   "metadata": {},
   "outputs": [
    {
     "name": "stdout",
     "output_type": "stream",
     "text": [
      "[ 0  5 10 15 20]\n",
      "[ 0  2  4  6  8 10]\n"
     ]
    }
   ],
   "source": [
    "## GENERATING RANGES\n",
    "array = np.linspace(0, 20, 5, dtype=int) ## end point included\n",
    "print(array)\n",
    "\n",
    "array2 = np.arange(0, 11, 2) ##  end point not included\n",
    "print(array2)"
   ]
  },
  {
   "cell_type": "code",
   "execution_count": 51,
   "metadata": {},
   "outputs": [
    {
     "name": "stdout",
     "output_type": "stream",
     "text": [
      "[[0.22199317 0.87073231 0.20671916]\n",
      " [0.91861091 0.48841119 0.61174386]\n",
      " [0.76590786 0.51841799 0.2968005 ]\n",
      " [0.18772123 0.08074127 0.7384403 ]\n",
      " [0.44130922 0.15830987 0.87993703]]\n"
     ]
    }
   ],
   "source": [
    "## RANDOM VALUES\n",
    "np.random.seed(0) ## set random set for consistency\n",
    "array_random = np.random.rand(5, 3) # generates a random matrix of 5 rows and 3 col\n",
    "print(array_random)"
   ]
  },
  {
   "cell_type": "code",
   "execution_count": 52,
   "metadata": {},
   "outputs": [
    {
     "name": "stdout",
     "output_type": "stream",
     "text": [
      "[[0. 0. 0.]\n",
      " [0. 0. 0.]]\n"
     ]
    }
   ],
   "source": [
    "array_zeros = np.zeros((2,3))\n",
    "print(array_zeros)"
   ]
  },
  {
   "cell_type": "code",
   "execution_count": 80,
   "metadata": {},
   "outputs": [
    {
     "name": "stdout",
     "output_type": "stream",
     "text": [
      "[[1 2 3 4]]\n",
      "2\n"
     ]
    },
    {
     "data": {
      "text/plain": [
       "array([], shape=(3, 0), dtype=int32)"
      ]
     },
     "execution_count": 80,
     "metadata": {},
     "output_type": "execute_result"
    }
   ],
   "source": [
    "## PRACTICE\n",
    "array = np.array([1, 2, 3, 4], ndmin=2) ## ndmin sets the dimensions of the array\n",
    "print(array)\n",
    "\n",
    "print(array.ndim) ## returns dimension of an array\n",
    "\n",
    "##ACCESSING elements\n",
    "array = np.array([[10, 20, 30, 40], [50, 60, 70, 80]])\n",
    "array[1, 0] ## output = 50 (index stars at zero)\n",
    "array[-1] ## output row 2\n",
    "array[-1, 0] ## output 50\n",
    "array[0, -1] ## output 40\n",
    "array.shape ## SHAPE() returns dimentions nxm of the arrayy\n",
    "array = array.reshape(4, 2) ## reshape() changes an array to the specified dimensions\n",
    "array[1:] ## returns matrix but excludes first row.\n",
    "array[:1] ## returns first row\n",
    "array[1:, 2:]\n"
   ]
  },
  {
   "cell_type": "code",
   "execution_count": 102,
   "metadata": {},
   "outputs": [
    {
     "name": "stdout",
     "output_type": "stream",
     "text": [
      "[[0.294665   0.53058676 0.19152079]\n",
      " [0.06790036 0.78698546 0.65633352]\n",
      " [0.         0.         0.03906292]\n",
      " [0.3578136  0.94568319 0.06004468]]\n"
     ]
    }
   ],
   "source": [
    "## subsetting \n",
    "np.random.seed(17)\n",
    "small_array=np.random.rand(12)\n",
    "## print(small_array.shape) ## SHAPE() returns dimentions nxm of the arrayy\n",
    "\n",
    "small_array = small_array.reshape(4,3)\n",
    "## print(small_array[2:]) ## first index 2 indicates the rows to remove\n",
    "## small_array[:1] = 0 ## set first row to zeros\n",
    "small_array = small_array.reshape(4,3)\n",
    "## small_array[:, 2:] = 0 ## sets last column to zeros\n",
    "##small_array[1:, 2] = 0 ## rows> from index 1 until end / column > index 2 (last column)\n",
    "small_array[2, :2] = 0 ## rows> only 3erd row (index 2), coolumns > from 0 to 1 (index 2 not included)\n",
    "print(small_array)\n"
   ]
  },
  {
   "cell_type": "code",
   "execution_count": 117,
   "metadata": {},
   "outputs": [
    {
     "name": "stdout",
     "output_type": "stream",
     "text": [
      "[[0.294665   0.53058676 0.19152079]\n",
      " [0.06790036 0.78698546 0.65633352]\n",
      " [0.         0.         0.03906292]\n",
      " [0.3578136  0.94568319 0.06004468]]\n"
     ]
    }
   ],
   "source": [
    "## MAKING A COPY\n",
    "shallow_copy_array = small_array.view() ## makes a SHALLOW copy\n",
    "small_array_copy = small_array.copy() ## makes a DEEP copy of the array.\n",
    "print(small_array_copy)"
   ]
  },
  {
   "cell_type": "code",
   "execution_count": 130,
   "metadata": {},
   "outputs": [
    {
     "data": {
      "text/plain": [
       "array([[0.294665  , 0.53058676, 0.19152079],\n",
       "       [0.06790036, 0.78698546, 0.65633352],\n",
       "       [0.3578136 , 0.94568319, 0.06004468]])"
      ]
     },
     "execution_count": 130,
     "metadata": {},
     "output_type": "execute_result"
    }
   ],
   "source": [
    "## CONDITIONAL INDEXING\n",
    "small_array_copy[:] > 0.5\n",
    "\n",
    "small_array_copy[:, 1] > 0.5\n",
    "\n",
    "small_array_copy[2, :] > 0.5\n",
    "\n",
    "small_array_copy[2:4, 1:] > 0.5\n",
    "\n",
    "small_array_copy[small_array_copy[:, 1] > 0.5, :] ## pass booleans array for all colums. only TRUE rows will be returned\n"
   ]
  },
  {
   "cell_type": "code",
   "execution_count": null,
   "metadata": {},
   "outputs": [],
   "source": [
    "## MATRIX OPERATIONS\n",
    "np.random.seed(17)\n",
    "array1= np.random.rand(10,2)\n",
    "array2= np.random.rand(10,2)\n",
    "array3= array1+array2\n",
    "array3= array1-array2\n",
    "array3= array1*array2 ## multiplies each element of the same index\n",
    "array3 = np.dot(array1, array2.T) ## this is a proper matrix multiplication. we transpose array2\n",
    "\n",
    "\n",
    "array3"
   ]
  },
  {
   "cell_type": "code",
   "execution_count": null,
   "metadata": {},
   "outputs": [],
   "source": [
    "array1.std()\n",
    "array1.max()\n",
    "array1.argmax() ## returns the max argument passed\n",
    "array1.min(); np.min(array1) ## different ways, same result\n",
    "print(array1.mean()); print(np.mean(array1))\n",
    "np.nanmean(array1) ## works without nan numbers. for almost all methods there is nan method\n"
   ]
  },
  {
   "cell_type": "code",
   "execution_count": null,
   "metadata": {},
   "outputs": [],
   "source": [
    "## SAVING NUMPY VARIABLES. np.save(name_you_give_to_file, variable)\n",
    "np.save('array.npy', array1)\n",
    "np.save('2darray.npy' , arr2d)\n",
    "\n",
    "## loading the data saved\n",
    "get_array = np.load('array.npy') ## I can now perfom operations on this variable\n",
    "\n",
    "get_array2 = np.load('2darray.npy')\n",
    "## get_array2*2 ## performing an operation on new variable from loaded data\n",
    "\n",
    "np.savetxt('sampletext.csv', test_data, delimiter=',') ## saves an array to a text file\n",
    "retrievefromcsv = np.loadtxt('sampletext.csv', delimiter=',')\n",
    "np.savetxt('samplearray.csv', array3, delimiter=',')\n",
    "text_array = np.loadtxt('samplearray.csv', delimiter=',')\n",
    "## text_array\n",
    "type(get_array[0, 0])\n",
    "%ls -l *.npy ## checking which .npy files are in current folder\n",
    "\n"
   ]
  },
  {
   "cell_type": "code",
   "execution_count": 211,
   "metadata": {},
   "outputs": [
    {
     "name": "stdout",
     "output_type": "stream",
     "text": [
      "[['abc' '21' '50']\n",
      " ['jinesh' '67' '8']]\n"
     ]
    }
   ],
   "source": [
    "import numpy as np\n",
    "## WE CAN CREATE CUSTOM OBJECTS. WE CREATE AN NP ARRAY BY INSERTING EACH LINE AS TUPLE\n",
    "a = np.array([('abc',21,50),(\"jinesh\",67,8)], dtype=object) ## with dtype=object I can store different datatypes.\n",
    "a = np.array([('abc',21,50),(\"jinesh\",67,8)]) ## without dtype all gets converted to string automatically\n",
    "print(a)"
   ]
  },
  {
   "cell_type": "code",
   "execution_count": 232,
   "metadata": {},
   "outputs": [
    {
     "data": {
      "text/plain": [
       "'Lucas'"
      ]
     },
     "execution_count": 232,
     "metadata": {},
     "output_type": "execute_result"
    }
   ],
   "source": [
    "import numpy as np\n",
    "class Myclass:\n",
    "    def __init__(self,value1,valye2):\n",
    "        self.value=value1\n",
    "        self.value2=valye2\n",
    "    \n",
    "obj= Myclass(42,'asdhkasd')\n",
    "np.save('abc.npy',obj)\n",
    "loaded_obj=np.load('abc.npy',allow_pickle=True)\n",
    "loaded_obj_type=loaded_obj.item()\n",
    "## print(loaded_obj_type.value)\n",
    "\n",
    "## SAVING AND LOADING MULTIPLE OBJECTS\n",
    "obj1 = Myclass(50, 'Lucas')\n",
    "obj2 = Myclass(51, 'Vit')\n",
    "np.savez('multiple_objs.npz', obj1=obj1, obj2=obj2) ## SAVING using savez(). Extension is npz\n",
    "load_objs = np.load('multiple_objs.npz', allow_pickle=True) ## loading into a new variable\n",
    "loaded_obj_1 = load_objs['obj1'].item() # creating a variable with object 1\n",
    "loaded_obj_1.value ## retrieving value inside the object\n",
    "loaded_obj_1.value2 ## retrieving value inside the object"
   ]
  },
  {
   "cell_type": "code",
   "execution_count": 1,
   "metadata": {},
   "outputs": [
    {
     "name": "stdout",
     "output_type": "stream",
     "text": [
      "Requirement already satisfied: pandas in c:\\users\\lucas\\appdata\\local\\packages\\pythonsoftwarefoundation.python.3.10_qbz5n2kfra8p0\\localcache\\local-packages\\python310\\site-packages (1.5.3)\n",
      "Requirement already satisfied: numpy>=1.21.0 in c:\\users\\lucas\\appdata\\local\\packages\\pythonsoftwarefoundation.python.3.10_qbz5n2kfra8p0\\localcache\\local-packages\\python310\\site-packages (from pandas) (1.24.2)\n",
      "Requirement already satisfied: pytz>=2020.1 in c:\\users\\lucas\\appdata\\local\\packages\\pythonsoftwarefoundation.python.3.10_qbz5n2kfra8p0\\localcache\\local-packages\\python310\\site-packages (from pandas) (2022.7.1)\n",
      "Requirement already satisfied: python-dateutil>=2.8.1 in c:\\users\\lucas\\appdata\\local\\packages\\pythonsoftwarefoundation.python.3.10_qbz5n2kfra8p0\\localcache\\local-packages\\python310\\site-packages (from pandas) (2.8.2)\n",
      "Requirement already satisfied: six>=1.5 in c:\\users\\lucas\\appdata\\local\\packages\\pythonsoftwarefoundation.python.3.10_qbz5n2kfra8p0\\localcache\\local-packages\\python310\\site-packages (from python-dateutil>=2.8.1->pandas) (1.16.0)\n"
     ]
    }
   ],
   "source": [
    "!pip3 install pandas"
   ]
  },
  {
   "cell_type": "code",
   "execution_count": 2,
   "metadata": {},
   "outputs": [
    {
     "name": "stdout",
     "output_type": "stream",
     "text": [
      "Int64Index([1, 2, 3], dtype='int64')\n"
     ]
    }
   ],
   "source": [
    "## PANDAS. uses numpy as base object. ideal to work with tables and dataframes.\n",
    "import pandas as pd\n",
    "import numpy as np\n",
    "\n",
    "## creating a series (column)\n",
    "s1 = pd.Series(['a', 'b', 'c'])\n",
    "## creating custom indexes with the 'index' argument\n",
    "s2 = pd.Series(s1, index= [1, 2, 3])\n",
    "print(s2.index)\n",
    "\n",
    "## creating a dataframe\n",
    "df1 = pd.DataFrame({'Customers': ['A', 'B', 'C', 'D'], 'Balance': [45661, 43585, 6214, 89862], 'Age': [45, 66, 29, np.NaN]})\n",
    "\n",
    "## visualizing columns and its information\n",
    "## print(df1['Customers']); print(df1['Balance'])\n",
    "\n",
    "\n"
   ]
  },
  {
   "cell_type": "code",
   "execution_count": null,
   "metadata": {},
   "outputs": [],
   "source": [
    "## OPENING A FILE AND ANALYZING THE DATA\n",
    "df = pd.read_csv('college_scorecard_2017-18.zip', dtype={'OPEID': str}) ## setting the dtype in the OPEID column to be a string so the leaeding zeros don't get eraised. Int erraises leading zeros"
   ]
  },
  {
   "cell_type": "code",
   "execution_count": 40,
   "metadata": {},
   "outputs": [
    {
     "data": {
      "text/html": [
       "<div>\n",
       "<style scoped>\n",
       "    .dataframe tbody tr th:only-of-type {\n",
       "        vertical-align: middle;\n",
       "    }\n",
       "\n",
       "    .dataframe tbody tr th {\n",
       "        vertical-align: top;\n",
       "    }\n",
       "\n",
       "    .dataframe thead th {\n",
       "        text-align: right;\n",
       "    }\n",
       "</style>\n",
       "<table border=\"1\" class=\"dataframe\">\n",
       "  <thead>\n",
       "    <tr style=\"text-align: right;\">\n",
       "      <th></th>\n",
       "      <th>OPEID</th>\n",
       "      <th>INSTNM</th>\n",
       "      <th>CITY</th>\n",
       "      <th>STABBR</th>\n",
       "      <th>ZIP</th>\n",
       "      <th>INSTURL</th>\n",
       "      <th>REGION</th>\n",
       "      <th>LOCALE</th>\n",
       "      <th>ADM_RATE</th>\n",
       "      <th>COSTT4_A</th>\n",
       "    </tr>\n",
       "  </thead>\n",
       "  <tbody>\n",
       "    <tr>\n",
       "      <th>0</th>\n",
       "      <td>00100200</td>\n",
       "      <td>Alabama A &amp; M University</td>\n",
       "      <td>Normal</td>\n",
       "      <td>AL</td>\n",
       "      <td>35762</td>\n",
       "      <td>www.aamu.edu/</td>\n",
       "      <td>5</td>\n",
       "      <td>12.0</td>\n",
       "      <td>0.9027</td>\n",
       "      <td>22886.0</td>\n",
       "    </tr>\n",
       "    <tr>\n",
       "      <th>1</th>\n",
       "      <td>00105200</td>\n",
       "      <td>University of Alabama at Birmingham</td>\n",
       "      <td>Birmingham</td>\n",
       "      <td>AL</td>\n",
       "      <td>35294-0110</td>\n",
       "      <td>www.uab.edu</td>\n",
       "      <td>5</td>\n",
       "      <td>12.0</td>\n",
       "      <td>0.9181</td>\n",
       "      <td>24129.0</td>\n",
       "    </tr>\n",
       "    <tr>\n",
       "      <th>2</th>\n",
       "      <td>02503400</td>\n",
       "      <td>Amridge University</td>\n",
       "      <td>Montgomery</td>\n",
       "      <td>AL</td>\n",
       "      <td>36117-3553</td>\n",
       "      <td>www.amridgeuniversity.edu</td>\n",
       "      <td>5</td>\n",
       "      <td>12.0</td>\n",
       "      <td>NaN</td>\n",
       "      <td>15080.0</td>\n",
       "    </tr>\n",
       "    <tr>\n",
       "      <th>3</th>\n",
       "      <td>00105500</td>\n",
       "      <td>University of Alabama in Huntsville</td>\n",
       "      <td>Huntsville</td>\n",
       "      <td>AL</td>\n",
       "      <td>35899</td>\n",
       "      <td>www.uah.edu</td>\n",
       "      <td>5</td>\n",
       "      <td>12.0</td>\n",
       "      <td>0.8123</td>\n",
       "      <td>22108.0</td>\n",
       "    </tr>\n",
       "    <tr>\n",
       "      <th>4</th>\n",
       "      <td>00100500</td>\n",
       "      <td>Alabama State University</td>\n",
       "      <td>Montgomery</td>\n",
       "      <td>AL</td>\n",
       "      <td>36104-0271</td>\n",
       "      <td>www.alasu.edu</td>\n",
       "      <td>5</td>\n",
       "      <td>12.0</td>\n",
       "      <td>0.9787</td>\n",
       "      <td>19413.0</td>\n",
       "    </tr>\n",
       "    <tr>\n",
       "      <th>5</th>\n",
       "      <td>00105100</td>\n",
       "      <td>The University of Alabama</td>\n",
       "      <td>Tuscaloosa</td>\n",
       "      <td>AL</td>\n",
       "      <td>35487-0166</td>\n",
       "      <td>www.ua.edu/</td>\n",
       "      <td>5</td>\n",
       "      <td>12.0</td>\n",
       "      <td>0.5330</td>\n",
       "      <td>28836.0</td>\n",
       "    </tr>\n",
       "    <tr>\n",
       "      <th>6</th>\n",
       "      <td>00100700</td>\n",
       "      <td>Central Alabama Community College</td>\n",
       "      <td>Alexander City</td>\n",
       "      <td>AL</td>\n",
       "      <td>35010</td>\n",
       "      <td>www.cacc.edu</td>\n",
       "      <td>5</td>\n",
       "      <td>32.0</td>\n",
       "      <td>NaN</td>\n",
       "      <td>10045.0</td>\n",
       "    </tr>\n",
       "    <tr>\n",
       "      <th>7</th>\n",
       "      <td>00100800</td>\n",
       "      <td>Athens State University</td>\n",
       "      <td>Athens</td>\n",
       "      <td>AL</td>\n",
       "      <td>35611</td>\n",
       "      <td>www.athens.edu</td>\n",
       "      <td>5</td>\n",
       "      <td>31.0</td>\n",
       "      <td>NaN</td>\n",
       "      <td>NaN</td>\n",
       "    </tr>\n",
       "    <tr>\n",
       "      <th>8</th>\n",
       "      <td>00831000</td>\n",
       "      <td>Auburn University at Montgomery</td>\n",
       "      <td>Montgomery</td>\n",
       "      <td>AL</td>\n",
       "      <td>36117-3596</td>\n",
       "      <td>www.aum.edu</td>\n",
       "      <td>5</td>\n",
       "      <td>12.0</td>\n",
       "      <td>0.8254</td>\n",
       "      <td>19892.0</td>\n",
       "    </tr>\n",
       "    <tr>\n",
       "      <th>9</th>\n",
       "      <td>00100900</td>\n",
       "      <td>Auburn University</td>\n",
       "      <td>Auburn</td>\n",
       "      <td>AL</td>\n",
       "      <td>36849</td>\n",
       "      <td>www.auburn.edu</td>\n",
       "      <td>5</td>\n",
       "      <td>13.0</td>\n",
       "      <td>0.8393</td>\n",
       "      <td>30458.0</td>\n",
       "    </tr>\n",
       "  </tbody>\n",
       "</table>\n",
       "</div>"
      ],
      "text/plain": [
       "      OPEID                               INSTNM            CITY STABBR  \\\n",
       "0  00100200             Alabama A & M University          Normal     AL   \n",
       "1  00105200  University of Alabama at Birmingham      Birmingham     AL   \n",
       "2  02503400                   Amridge University      Montgomery     AL   \n",
       "3  00105500  University of Alabama in Huntsville      Huntsville     AL   \n",
       "4  00100500             Alabama State University      Montgomery     AL   \n",
       "5  00105100            The University of Alabama      Tuscaloosa     AL   \n",
       "6  00100700    Central Alabama Community College  Alexander City     AL   \n",
       "7  00100800              Athens State University          Athens     AL   \n",
       "8  00831000      Auburn University at Montgomery      Montgomery     AL   \n",
       "9  00100900                    Auburn University          Auburn     AL   \n",
       "\n",
       "          ZIP                    INSTURL  REGION  LOCALE  ADM_RATE  COSTT4_A  \n",
       "0       35762              www.aamu.edu/       5    12.0    0.9027   22886.0  \n",
       "1  35294-0110                www.uab.edu       5    12.0    0.9181   24129.0  \n",
       "2  36117-3553  www.amridgeuniversity.edu       5    12.0       NaN   15080.0  \n",
       "3       35899                www.uah.edu       5    12.0    0.8123   22108.0  \n",
       "4  36104-0271              www.alasu.edu       5    12.0    0.9787   19413.0  \n",
       "5  35487-0166                www.ua.edu/       5    12.0    0.5330   28836.0  \n",
       "6       35010               www.cacc.edu       5    32.0       NaN   10045.0  \n",
       "7       35611             www.athens.edu       5    31.0       NaN       NaN  \n",
       "8  36117-3596                www.aum.edu       5    12.0    0.8254   19892.0  \n",
       "9       36849             www.auburn.edu       5    13.0    0.8393   30458.0  "
      ]
     },
     "execution_count": 40,
     "metadata": {},
     "output_type": "execute_result"
    }
   ],
   "source": [
    "df.head(10) ## display first rows. I can pass the number of rows to return\n",
    "# df.tail() ## last 5 rows"
   ]
  },
  {
   "cell_type": "code",
   "execution_count": 38,
   "metadata": {},
   "outputs": [
    {
     "name": "stdout",
     "output_type": "stream",
     "text": [
      "<class 'pandas.core.frame.DataFrame'>\n",
      "RangeIndex: 7058 entries, 0 to 7057\n",
      "Data columns (total 10 columns):\n",
      " #   Column    Non-Null Count  Dtype  \n",
      "---  ------    --------------  -----  \n",
      " 0   OPEID     7058 non-null   object \n",
      " 1   INSTNM    7058 non-null   object \n",
      " 2   CITY      7058 non-null   object \n",
      " 3   STABBR    7058 non-null   object \n",
      " 4   ZIP       7058 non-null   object \n",
      " 5   INSTURL   7039 non-null   object \n",
      " 6   REGION    7058 non-null   int64  \n",
      " 7   LOCALE    6614 non-null   float64\n",
      " 8   ADM_RATE  2019 non-null   float64\n",
      " 9   COSTT4_A  3572 non-null   float64\n",
      "dtypes: float64(3), int64(1), object(6)\n",
      "memory usage: 551.5+ KB\n"
     ]
    }
   ],
   "source": [
    "df.info() ## getting general overview info about the df\n",
    "# by default, strings are pushed as datatype 'object'"
   ]
  },
  {
   "cell_type": "code",
   "execution_count": 26,
   "metadata": {},
   "outputs": [
    {
     "data": {
      "text/plain": [
       "(7058, 10)"
      ]
     },
     "execution_count": 26,
     "metadata": {},
     "output_type": "execute_result"
    }
   ],
   "source": [
    "df.shape ## viewing dimensions of the table."
   ]
  },
  {
   "cell_type": "code",
   "execution_count": 41,
   "metadata": {},
   "outputs": [
    {
     "data": {
      "text/plain": [
       "RangeIndex(start=0, stop=7058, step=1)"
      ]
     },
     "execution_count": 41,
     "metadata": {},
     "output_type": "execute_result"
    }
   ],
   "source": [
    "df.index ## shows info about the index"
   ]
  },
  {
   "cell_type": "code",
   "execution_count": 42,
   "metadata": {},
   "outputs": [
    {
     "data": {
      "text/plain": [
       "Index(['OPEID', 'INSTNM', 'CITY', 'STABBR', 'ZIP', 'INSTURL', 'REGION',\n",
       "       'LOCALE', 'ADM_RATE', 'COSTT4_A'],\n",
       "      dtype='object')"
      ]
     },
     "execution_count": 42,
     "metadata": {},
     "output_type": "execute_result"
    }
   ],
   "source": [
    "df.columns ## show all columns"
   ]
  },
  {
   "cell_type": "code",
   "execution_count": 32,
   "metadata": {},
   "outputs": [
    {
     "name": "stdout",
     "output_type": "stream",
     "text": [
      "61\n"
     ]
    }
   ],
   "source": [
    "pd.options.display.max_rows = 61 ## changing max rows that can display\n",
    "print(pd.options.display.max_rows) ## max rows that will be displayed"
   ]
  },
  {
   "cell_type": "code",
   "execution_count": 43,
   "metadata": {},
   "outputs": [
    {
     "data": {
      "text/html": [
       "<div>\n",
       "<style scoped>\n",
       "    .dataframe tbody tr th:only-of-type {\n",
       "        vertical-align: middle;\n",
       "    }\n",
       "\n",
       "    .dataframe tbody tr th {\n",
       "        vertical-align: top;\n",
       "    }\n",
       "\n",
       "    .dataframe thead th {\n",
       "        text-align: right;\n",
       "    }\n",
       "</style>\n",
       "<table border=\"1\" class=\"dataframe\">\n",
       "  <thead>\n",
       "    <tr style=\"text-align: right;\">\n",
       "      <th></th>\n",
       "      <th>OPEID</th>\n",
       "      <th>INSTNM</th>\n",
       "      <th>CITY</th>\n",
       "      <th>STATE</th>\n",
       "      <th>ZIP</th>\n",
       "      <th>INSTURL</th>\n",
       "      <th>REGION</th>\n",
       "      <th>LOCALE</th>\n",
       "      <th>ADM_RATE</th>\n",
       "      <th>COSTT4_A</th>\n",
       "    </tr>\n",
       "  </thead>\n",
       "  <tbody>\n",
       "    <tr>\n",
       "      <th>0</th>\n",
       "      <td>00100200</td>\n",
       "      <td>Alabama A &amp; M University</td>\n",
       "      <td>Normal</td>\n",
       "      <td>AL</td>\n",
       "      <td>35762</td>\n",
       "      <td>www.aamu.edu/</td>\n",
       "      <td>5</td>\n",
       "      <td>12.0</td>\n",
       "      <td>0.9027</td>\n",
       "      <td>22886.0</td>\n",
       "    </tr>\n",
       "    <tr>\n",
       "      <th>1</th>\n",
       "      <td>00105200</td>\n",
       "      <td>University of Alabama at Birmingham</td>\n",
       "      <td>Birmingham</td>\n",
       "      <td>AL</td>\n",
       "      <td>35294-0110</td>\n",
       "      <td>www.uab.edu</td>\n",
       "      <td>5</td>\n",
       "      <td>12.0</td>\n",
       "      <td>0.9181</td>\n",
       "      <td>24129.0</td>\n",
       "    </tr>\n",
       "    <tr>\n",
       "      <th>2</th>\n",
       "      <td>02503400</td>\n",
       "      <td>Amridge University</td>\n",
       "      <td>Montgomery</td>\n",
       "      <td>AL</td>\n",
       "      <td>36117-3553</td>\n",
       "      <td>www.amridgeuniversity.edu</td>\n",
       "      <td>5</td>\n",
       "      <td>12.0</td>\n",
       "      <td>NaN</td>\n",
       "      <td>15080.0</td>\n",
       "    </tr>\n",
       "    <tr>\n",
       "      <th>3</th>\n",
       "      <td>00105500</td>\n",
       "      <td>University of Alabama in Huntsville</td>\n",
       "      <td>Huntsville</td>\n",
       "      <td>AL</td>\n",
       "      <td>35899</td>\n",
       "      <td>www.uah.edu</td>\n",
       "      <td>5</td>\n",
       "      <td>12.0</td>\n",
       "      <td>0.8123</td>\n",
       "      <td>22108.0</td>\n",
       "    </tr>\n",
       "    <tr>\n",
       "      <th>4</th>\n",
       "      <td>00100500</td>\n",
       "      <td>Alabama State University</td>\n",
       "      <td>Montgomery</td>\n",
       "      <td>AL</td>\n",
       "      <td>36104-0271</td>\n",
       "      <td>www.alasu.edu</td>\n",
       "      <td>5</td>\n",
       "      <td>12.0</td>\n",
       "      <td>0.9787</td>\n",
       "      <td>19413.0</td>\n",
       "    </tr>\n",
       "    <tr>\n",
       "      <th>...</th>\n",
       "      <td>...</td>\n",
       "      <td>...</td>\n",
       "      <td>...</td>\n",
       "      <td>...</td>\n",
       "      <td>...</td>\n",
       "      <td>...</td>\n",
       "      <td>...</td>\n",
       "      <td>...</td>\n",
       "      <td>...</td>\n",
       "      <td>...</td>\n",
       "    </tr>\n",
       "    <tr>\n",
       "      <th>7053</th>\n",
       "      <td>00108163</td>\n",
       "      <td>Arizona State University at Yuma</td>\n",
       "      <td>Yuma</td>\n",
       "      <td>AZ</td>\n",
       "      <td>853656900</td>\n",
       "      <td>www.asu.edu/</td>\n",
       "      <td>6</td>\n",
       "      <td>NaN</td>\n",
       "      <td>NaN</td>\n",
       "      <td>NaN</td>\n",
       "    </tr>\n",
       "    <tr>\n",
       "      <th>7054</th>\n",
       "      <td>04223701</td>\n",
       "      <td>Bay Area Medical Academy - San Jose Satellite ...</td>\n",
       "      <td>San Jose</td>\n",
       "      <td>CA</td>\n",
       "      <td>95113</td>\n",
       "      <td>www.bamasf.com/</td>\n",
       "      <td>8</td>\n",
       "      <td>NaN</td>\n",
       "      <td>NaN</td>\n",
       "      <td>NaN</td>\n",
       "    </tr>\n",
       "    <tr>\n",
       "      <th>7055</th>\n",
       "      <td>04228101</td>\n",
       "      <td>High Desert Medical College</td>\n",
       "      <td>Lancaster</td>\n",
       "      <td>CA</td>\n",
       "      <td>935340000</td>\n",
       "      <td>www.hdmc.edu</td>\n",
       "      <td>8</td>\n",
       "      <td>NaN</td>\n",
       "      <td>NaN</td>\n",
       "      <td>NaN</td>\n",
       "    </tr>\n",
       "    <tr>\n",
       "      <th>7056</th>\n",
       "      <td>04221501</td>\n",
       "      <td>BCI - Malden</td>\n",
       "      <td>Malden</td>\n",
       "      <td>MA</td>\n",
       "      <td>21480000</td>\n",
       "      <td>bostoncareer.org</td>\n",
       "      <td>1</td>\n",
       "      <td>NaN</td>\n",
       "      <td>NaN</td>\n",
       "      <td>NaN</td>\n",
       "    </tr>\n",
       "    <tr>\n",
       "      <th>7057</th>\n",
       "      <td>04182601</td>\n",
       "      <td>Health Career Institute- Lauderdale Lakes</td>\n",
       "      <td>Lauderdale Lakes</td>\n",
       "      <td>FL</td>\n",
       "      <td>333137268</td>\n",
       "      <td>www.hci.edu/</td>\n",
       "      <td>5</td>\n",
       "      <td>NaN</td>\n",
       "      <td>NaN</td>\n",
       "      <td>NaN</td>\n",
       "    </tr>\n",
       "  </tbody>\n",
       "</table>\n",
       "<p>7058 rows × 10 columns</p>\n",
       "</div>"
      ],
      "text/plain": [
       "         OPEID                                             INSTNM  \\\n",
       "0     00100200                           Alabama A & M University   \n",
       "1     00105200                University of Alabama at Birmingham   \n",
       "2     02503400                                 Amridge University   \n",
       "3     00105500                University of Alabama in Huntsville   \n",
       "4     00100500                           Alabama State University   \n",
       "...        ...                                                ...   \n",
       "7053  00108163                   Arizona State University at Yuma   \n",
       "7054  04223701  Bay Area Medical Academy - San Jose Satellite ...   \n",
       "7055  04228101                        High Desert Medical College   \n",
       "7056  04221501                                       BCI - Malden   \n",
       "7057  04182601          Health Career Institute- Lauderdale Lakes   \n",
       "\n",
       "                  CITY STATE         ZIP                    INSTURL  REGION  \\\n",
       "0               Normal    AL       35762              www.aamu.edu/       5   \n",
       "1           Birmingham    AL  35294-0110                www.uab.edu       5   \n",
       "2           Montgomery    AL  36117-3553  www.amridgeuniversity.edu       5   \n",
       "3           Huntsville    AL       35899                www.uah.edu       5   \n",
       "4           Montgomery    AL  36104-0271              www.alasu.edu       5   \n",
       "...                ...   ...         ...                        ...     ...   \n",
       "7053              Yuma    AZ   853656900               www.asu.edu/       6   \n",
       "7054          San Jose    CA       95113            www.bamasf.com/       8   \n",
       "7055         Lancaster    CA   935340000               www.hdmc.edu       8   \n",
       "7056            Malden    MA    21480000           bostoncareer.org       1   \n",
       "7057  Lauderdale Lakes    FL   333137268               www.hci.edu/       5   \n",
       "\n",
       "      LOCALE  ADM_RATE  COSTT4_A  \n",
       "0       12.0    0.9027   22886.0  \n",
       "1       12.0    0.9181   24129.0  \n",
       "2       12.0       NaN   15080.0  \n",
       "3       12.0    0.8123   22108.0  \n",
       "4       12.0    0.9787   19413.0  \n",
       "...      ...       ...       ...  \n",
       "7053     NaN       NaN       NaN  \n",
       "7054     NaN       NaN       NaN  \n",
       "7055     NaN       NaN       NaN  \n",
       "7056     NaN       NaN       NaN  \n",
       "7057     NaN       NaN       NaN  \n",
       "\n",
       "[7058 rows x 10 columns]"
      ]
     },
     "execution_count": 43,
     "metadata": {},
     "output_type": "execute_result"
    }
   ],
   "source": [
    "## renaming a column name\n",
    "df.rename(columns={'STABBR': 'STATE'})"
   ]
  },
  {
   "cell_type": "code",
   "execution_count": null,
   "metadata": {},
   "outputs": [],
   "source": [
    "## OPENING AN EXCEL FILE\n"
   ]
  },
  {
   "cell_type": "code",
   "execution_count": null,
   "metadata": {},
   "outputs": [],
   "source": [
    "## GETTING DATA FROM WEB. first we need xlml package\n",
    "!pip install lxml"
   ]
  },
  {
   "cell_type": "code",
   "execution_count": 21,
   "metadata": {},
   "outputs": [
    {
     "data": {
      "text/html": [
       "<div>\n",
       "<style scoped>\n",
       "    .dataframe tbody tr th:only-of-type {\n",
       "        vertical-align: middle;\n",
       "    }\n",
       "\n",
       "    .dataframe tbody tr th {\n",
       "        vertical-align: top;\n",
       "    }\n",
       "\n",
       "    .dataframe thead th {\n",
       "        text-align: right;\n",
       "    }\n",
       "</style>\n",
       "<table border=\"1\" class=\"dataframe\">\n",
       "  <thead>\n",
       "    <tr style=\"text-align: right;\">\n",
       "      <th></th>\n",
       "      <th>Year</th>\n",
       "      <th>World</th>\n",
       "      <th>Asia</th>\n",
       "      <th>Africa</th>\n",
       "      <th>Europe</th>\n",
       "      <th>Latin America/Caribbean</th>\n",
       "      <th>Northern America</th>\n",
       "      <th>Oceania</th>\n",
       "    </tr>\n",
       "  </thead>\n",
       "  <tbody>\n",
       "    <tr>\n",
       "      <th>0</th>\n",
       "      <td>2000</td>\n",
       "      <td>6144</td>\n",
       "      <td>3,741 (60.9%)</td>\n",
       "      <td>811 (13.2%)</td>\n",
       "      <td>726 (11.8%)</td>\n",
       "      <td>522 (8.5%)</td>\n",
       "      <td>312 (5.1%)</td>\n",
       "      <td>31 (0.5%)</td>\n",
       "    </tr>\n",
       "    <tr>\n",
       "      <th>1</th>\n",
       "      <td>2005</td>\n",
       "      <td>6542</td>\n",
       "      <td>3,978 (60.8%)</td>\n",
       "      <td>916 (14.0%)</td>\n",
       "      <td>729 (11.2%)</td>\n",
       "      <td>558 (8.5%)</td>\n",
       "      <td>327 (5.0%)</td>\n",
       "      <td>34 (0.5%)</td>\n",
       "    </tr>\n",
       "    <tr>\n",
       "      <th>2</th>\n",
       "      <td>2010</td>\n",
       "      <td>6957</td>\n",
       "      <td>4,210 (60.5%)</td>\n",
       "      <td>1,039 (14.9%)</td>\n",
       "      <td>736 (10.6%)</td>\n",
       "      <td>591 (8.5%)</td>\n",
       "      <td>343 (4.9%)</td>\n",
       "      <td>37 (0.5%)</td>\n",
       "    </tr>\n",
       "    <tr>\n",
       "      <th>3</th>\n",
       "      <td>2015</td>\n",
       "      <td>7380</td>\n",
       "      <td>4,434 (60.1%)</td>\n",
       "      <td>1,182 (16.0%)</td>\n",
       "      <td>743 (10.1%)</td>\n",
       "      <td>624 (8.5%)</td>\n",
       "      <td>357 (4.8%)</td>\n",
       "      <td>40 (0.5%)</td>\n",
       "    </tr>\n",
       "    <tr>\n",
       "      <th>4</th>\n",
       "      <td>2020</td>\n",
       "      <td>7795</td>\n",
       "      <td>4,641 (59.5%)</td>\n",
       "      <td>1,341 (17.2%)</td>\n",
       "      <td>748 (9.6%)</td>\n",
       "      <td>654 (8.4%)</td>\n",
       "      <td>369 (4.7%)</td>\n",
       "      <td>43 (0.6%)</td>\n",
       "    </tr>\n",
       "  </tbody>\n",
       "</table>\n",
       "</div>"
      ],
      "text/plain": [
       "   Year  World           Asia         Africa       Europe  \\\n",
       "0  2000   6144  3,741 (60.9%)    811 (13.2%)  726 (11.8%)   \n",
       "1  2005   6542  3,978 (60.8%)    916 (14.0%)  729 (11.2%)   \n",
       "2  2010   6957  4,210 (60.5%)  1,039 (14.9%)  736 (10.6%)   \n",
       "3  2015   7380  4,434 (60.1%)  1,182 (16.0%)  743 (10.1%)   \n",
       "4  2020   7795  4,641 (59.5%)  1,341 (17.2%)   748 (9.6%)   \n",
       "\n",
       "  Latin America/Caribbean Northern America    Oceania  \n",
       "0              522 (8.5%)       312 (5.1%)  31 (0.5%)  \n",
       "1              558 (8.5%)       327 (5.0%)  34 (0.5%)  \n",
       "2              591 (8.5%)       343 (4.9%)  37 (0.5%)  \n",
       "3              624 (8.5%)       357 (4.8%)  40 (0.5%)  \n",
       "4              654 (8.4%)       369 (4.7%)  43 (0.6%)  "
      ]
     },
     "execution_count": 21,
     "metadata": {},
     "output_type": "execute_result"
    }
   ],
   "source": [
    "url = 'https://en.wikipedia.org/w/index.php?title=World_population&oldid=948301297'\n",
    "df_web = pd.read_html(url)\n",
    "# print the object to explore it. we see that index 12 is where the world population table is\n",
    "## print(df_web)\n",
    "df_web[12].head()"
   ]
  },
  {
   "cell_type": "code",
   "execution_count": 46,
   "metadata": {},
   "outputs": [
    {
     "name": "stdout",
     "output_type": "stream",
     "text": [
      "not greater than 10\n"
     ]
    },
    {
     "data": {
      "text/plain": [
       "[{0: 'even'},\n",
       " 1,\n",
       " {2: 'even'},\n",
       " 3,\n",
       " {4: 'even'},\n",
       " 5,\n",
       " {6: 'even'},\n",
       " 7,\n",
       " {8: 'even'},\n",
       " 9,\n",
       " {10: 'even'},\n",
       " 11,\n",
       " {12: 'even'},\n",
       " 13,\n",
       " {14: 'even'},\n",
       " 15,\n",
       " {16: 'even'},\n",
       " 17,\n",
       " {18: 'even'},\n",
       " 19]"
      ]
     },
     "execution_count": 46,
     "metadata": {},
     "output_type": "execute_result"
    }
   ],
   "source": [
    "################################ LAMBDA function. It's a runtime function. Also called anonymous function\n",
    "increment_by_one = (\n",
    "    lambda x: x + 1\n",
    ")  ## creating a lambda function to increment a number by 1\n",
    "increment_by_one(5)  ## calling the instance of the function and passing an argument\n",
    "\n",
    "multiply_nums = lambda x, y, z=1: x * y * z\n",
    "multiply_nums(5, 5, 5)\n",
    "\n",
    "check_number = lambda x: x if (x > 10) else \"not greater than 10\"\n",
    "check_number(10)\n",
    "print(\n",
    "    (lambda x: x if (x > 10) else \"not greater than 10\")(10) ## I can also call the func directly\n",
    ")  \n",
    "\n",
    "############################################## USING LAMBDA WITH MULTIPLE PARAMENTERS\n",
    "suma = lambda *args: sum(args)\n",
    "suma(1, 2, 3, 4)\n",
    "\n",
    "multiplied = lambda x, *args, **kargs: x * sum(args) * kargs['multiplier']\n",
    "multiplied(1, 2, 3, 4, multiplier = 2) ## 1 * (2+3+4) * 2 = 18\n",
    "\n",
    "########################################## USING LAMBDA WITH FOR LOOP\n",
    "aList = list(range(20))\n",
    "bList = []\n",
    "for i in aList:\n",
    "    bList.append((lambda i: i**2)(i))\n",
    "\n",
    "# print(bList)\n",
    "\n",
    "############################################################## USING LAMBDA WITH FILTER() and MAP() methods.\n",
    "list(\n",
    "    filter(lambda x: x > 10, aList) ## filter() method takes a function and an iterable. We can pass a lambda function\n",
    ")  \n",
    "tuple(\n",
    "    filter(lambda x: x > 10, aList) ## filter() method takes a function and an iterable. We can pass a lambda function\n",
    ")  \n",
    "\n",
    "list(map(lambda x: {x: \"even\"} if (x % 2 == 0) else x, aList)) ## map() method\n"
   ]
  },
  {
   "cell_type": "code",
   "execution_count": 62,
   "metadata": {},
   "outputs": [
    {
     "data": {
      "text/html": [
       "<div>\n",
       "<style scoped>\n",
       "    .dataframe tbody tr th:only-of-type {\n",
       "        vertical-align: middle;\n",
       "    }\n",
       "\n",
       "    .dataframe tbody tr th {\n",
       "        vertical-align: top;\n",
       "    }\n",
       "\n",
       "    .dataframe thead th {\n",
       "        text-align: right;\n",
       "    }\n",
       "</style>\n",
       "<table border=\"1\" class=\"dataframe\">\n",
       "  <thead>\n",
       "    <tr style=\"text-align: right;\">\n",
       "      <th></th>\n",
       "      <th>id</th>\n",
       "      <th>name</th>\n",
       "      <th>fullName</th>\n",
       "    </tr>\n",
       "  </thead>\n",
       "  <tbody>\n",
       "    <tr>\n",
       "      <th>0</th>\n",
       "      <td>1</td>\n",
       "      <td>Lucas</td>\n",
       "      <td>he's Lucas</td>\n",
       "    </tr>\n",
       "    <tr>\n",
       "      <th>1</th>\n",
       "      <td>2</td>\n",
       "      <td>Pedro</td>\n",
       "      <td>he's Pedro</td>\n",
       "    </tr>\n",
       "    <tr>\n",
       "      <th>2</th>\n",
       "      <td>3</td>\n",
       "      <td>Juan</td>\n",
       "      <td>he's Juan</td>\n",
       "    </tr>\n",
       "    <tr>\n",
       "      <th>3</th>\n",
       "      <td>4</td>\n",
       "      <td>Matias</td>\n",
       "      <td>he's Matias</td>\n",
       "    </tr>\n",
       "    <tr>\n",
       "      <th>4</th>\n",
       "      <td>5</td>\n",
       "      <td>Miguel</td>\n",
       "      <td>he's Miguel</td>\n",
       "    </tr>\n",
       "  </tbody>\n",
       "</table>\n",
       "</div>"
      ],
      "text/plain": [
       "   id    name     fullName\n",
       "0   1   Lucas   he's Lucas\n",
       "1   2   Pedro   he's Pedro\n",
       "2   3    Juan    he's Juan\n",
       "3   4  Matias  he's Matias\n",
       "4   5  Miguel  he's Miguel"
      ]
     },
     "metadata": {},
     "output_type": "display_data"
    }
   ],
   "source": [
    "## USING map() and apply() with Dataframes\n",
    "import pandas as pd\n",
    "df = pd.DataFrame({'id':[1,2,3,4,5],'name':['Lucas','Pedro','Juan','Matias','Miguel']})\n",
    "\n",
    "#################################\n",
    "# creating a new column from an existing one using lambda and map()\n",
    "df['fullName'] = df['name'].map(lambda x: f\"he's {x}\")\n",
    "display(df) ## display() is better for printing df in pandas than using print()\n"
   ]
  },
  {
   "cell_type": "code",
   "execution_count": 61,
   "metadata": {},
   "outputs": [
    {
     "data": {
      "text/html": [
       "<div>\n",
       "<style scoped>\n",
       "    .dataframe tbody tr th:only-of-type {\n",
       "        vertical-align: middle;\n",
       "    }\n",
       "\n",
       "    .dataframe tbody tr th {\n",
       "        vertical-align: top;\n",
       "    }\n",
       "\n",
       "    .dataframe thead th {\n",
       "        text-align: right;\n",
       "    }\n",
       "</style>\n",
       "<table border=\"1\" class=\"dataframe\">\n",
       "  <thead>\n",
       "    <tr style=\"text-align: right;\">\n",
       "      <th></th>\n",
       "      <th>id</th>\n",
       "      <th>name</th>\n",
       "      <th>fullName</th>\n",
       "      <th>balance</th>\n",
       "    </tr>\n",
       "  </thead>\n",
       "  <tbody>\n",
       "    <tr>\n",
       "      <th>0</th>\n",
       "      <td>1</td>\n",
       "      <td>Lucas</td>\n",
       "      <td>he's Lucas</td>\n",
       "      <td>1000</td>\n",
       "    </tr>\n",
       "    <tr>\n",
       "      <th>1</th>\n",
       "      <td>2</td>\n",
       "      <td>Pedro</td>\n",
       "      <td>he's Pedro</td>\n",
       "      <td>1000</td>\n",
       "    </tr>\n",
       "    <tr>\n",
       "      <th>2</th>\n",
       "      <td>3</td>\n",
       "      <td>Juan</td>\n",
       "      <td>he's Juan</td>\n",
       "      <td>0</td>\n",
       "    </tr>\n",
       "    <tr>\n",
       "      <th>3</th>\n",
       "      <td>4</td>\n",
       "      <td>Matias</td>\n",
       "      <td>he's Matias</td>\n",
       "      <td>0</td>\n",
       "    </tr>\n",
       "    <tr>\n",
       "      <th>4</th>\n",
       "      <td>5</td>\n",
       "      <td>Miguel</td>\n",
       "      <td>he's Miguel</td>\n",
       "      <td>0</td>\n",
       "    </tr>\n",
       "  </tbody>\n",
       "</table>\n",
       "</div>"
      ],
      "text/plain": [
       "   id    name     fullName  balance\n",
       "0   1   Lucas   he's Lucas     1000\n",
       "1   2   Pedro   he's Pedro     1000\n",
       "2   3    Juan    he's Juan        0\n",
       "3   4  Matias  he's Matias        0\n",
       "4   5  Miguel  he's Miguel        0"
      ]
     },
     "metadata": {},
     "output_type": "display_data"
    }
   ],
   "source": [
    "## USING APPLY() METHOD\n",
    "## apply() method works with vectorized variables or series(columns)\n",
    "df['balance'] = df['id'].apply(lambda x: 1000 if(x in [1, 2]) else 0) # here we assigned a balance of 1000 to ids 1 and 2\n",
    "display(df)\n",
    "\n",
    "## https://stackoverflow.com/questions/19798153/difference-between-map-applymap-and-apply-methods-in-pandas"
   ]
  },
  {
   "cell_type": "code",
   "execution_count": 91,
   "metadata": {},
   "outputs": [
    {
     "data": {
      "text/plain": [
       "18"
      ]
     },
     "execution_count": 91,
     "metadata": {},
     "output_type": "execute_result"
    }
   ],
   "source": [
    "## USING REDUCE() METHOD\n",
    "from functools import reduce\n",
    "result = reduce(lambda x, y: x + y, aList)\n",
    "result"
   ]
  },
  {
   "cell_type": "code",
   "execution_count": 1,
   "metadata": {},
   "outputs": [],
   "source": [
    "################## DATA CLEANING #########################\n",
    "# LOADING DATA\n",
    "import pandas as pd\n",
    "test_df = pd.read_csv('college_scorecard_2017-18.zip', dtype= {'OPEID': str})"
   ]
  },
  {
   "cell_type": "code",
   "execution_count": null,
   "metadata": {},
   "outputs": [],
   "source": [
    "## READING DATA INFO\n",
    "test_df.info()"
   ]
  },
  {
   "cell_type": "code",
   "execution_count": 161,
   "metadata": {},
   "outputs": [
    {
     "data": {
      "text/plain": [
       "(7058, 10)"
      ]
     },
     "execution_count": 161,
     "metadata": {},
     "output_type": "execute_result"
    }
   ],
   "source": [
    "## READING SHAPE\n",
    "test_df.shape"
   ]
  },
  {
   "cell_type": "code",
   "execution_count": 180,
   "metadata": {},
   "outputs": [
    {
     "data": {
      "text/html": [
       "<div>\n",
       "<style scoped>\n",
       "    .dataframe tbody tr th:only-of-type {\n",
       "        vertical-align: middle;\n",
       "    }\n",
       "\n",
       "    .dataframe tbody tr th {\n",
       "        vertical-align: top;\n",
       "    }\n",
       "\n",
       "    .dataframe thead th {\n",
       "        text-align: right;\n",
       "    }\n",
       "</style>\n",
       "<table border=\"1\" class=\"dataframe\">\n",
       "  <thead>\n",
       "    <tr style=\"text-align: right;\">\n",
       "      <th></th>\n",
       "      <th>OPEID</th>\n",
       "      <th>INSTNM</th>\n",
       "      <th>CITY</th>\n",
       "      <th>STABBR</th>\n",
       "      <th>ZIP</th>\n",
       "      <th>INSTURL</th>\n",
       "      <th>REGION</th>\n",
       "      <th>LOCALE</th>\n",
       "      <th>ADM_RATE</th>\n",
       "      <th>COSTT4_A</th>\n",
       "    </tr>\n",
       "  </thead>\n",
       "  <tbody>\n",
       "    <tr>\n",
       "      <th>count</th>\n",
       "      <td>1822</td>\n",
       "      <td>1822</td>\n",
       "      <td>1822</td>\n",
       "      <td>1822</td>\n",
       "      <td>1822</td>\n",
       "      <td>1822</td>\n",
       "      <td>1822.000000</td>\n",
       "      <td>1822.000000</td>\n",
       "      <td>1822.000000</td>\n",
       "      <td>1822.000000</td>\n",
       "    </tr>\n",
       "    <tr>\n",
       "      <th>unique</th>\n",
       "      <td>1817</td>\n",
       "      <td>1806</td>\n",
       "      <td>1030</td>\n",
       "      <td>55</td>\n",
       "      <td>1772</td>\n",
       "      <td>1764</td>\n",
       "      <td>NaN</td>\n",
       "      <td>NaN</td>\n",
       "      <td>NaN</td>\n",
       "      <td>NaN</td>\n",
       "    </tr>\n",
       "    <tr>\n",
       "      <th>top</th>\n",
       "      <td>00370200</td>\n",
       "      <td>Union College</td>\n",
       "      <td>New York</td>\n",
       "      <td>NY</td>\n",
       "      <td>02215</td>\n",
       "      <td>https://www.devry.edu</td>\n",
       "      <td>NaN</td>\n",
       "      <td>NaN</td>\n",
       "      <td>NaN</td>\n",
       "      <td>NaN</td>\n",
       "    </tr>\n",
       "    <tr>\n",
       "      <th>freq</th>\n",
       "      <td>2</td>\n",
       "      <td>3</td>\n",
       "      <td>30</td>\n",
       "      <td>181</td>\n",
       "      <td>3</td>\n",
       "      <td>16</td>\n",
       "      <td>NaN</td>\n",
       "      <td>NaN</td>\n",
       "      <td>NaN</td>\n",
       "      <td>NaN</td>\n",
       "    </tr>\n",
       "    <tr>\n",
       "      <th>mean</th>\n",
       "      <td>NaN</td>\n",
       "      <td>NaN</td>\n",
       "      <td>NaN</td>\n",
       "      <td>NaN</td>\n",
       "      <td>NaN</td>\n",
       "      <td>NaN</td>\n",
       "      <td>4.055434</td>\n",
       "      <td>19.840834</td>\n",
       "      <td>0.684968</td>\n",
       "      <td>34914.804061</td>\n",
       "    </tr>\n",
       "    <tr>\n",
       "      <th>std</th>\n",
       "      <td>NaN</td>\n",
       "      <td>NaN</td>\n",
       "      <td>NaN</td>\n",
       "      <td>NaN</td>\n",
       "      <td>NaN</td>\n",
       "      <td>NaN</td>\n",
       "      <td>2.129189</td>\n",
       "      <td>9.461905</td>\n",
       "      <td>0.215220</td>\n",
       "      <td>15242.893066</td>\n",
       "    </tr>\n",
       "    <tr>\n",
       "      <th>min</th>\n",
       "      <td>NaN</td>\n",
       "      <td>NaN</td>\n",
       "      <td>NaN</td>\n",
       "      <td>NaN</td>\n",
       "      <td>NaN</td>\n",
       "      <td>NaN</td>\n",
       "      <td>0.000000</td>\n",
       "      <td>-3.000000</td>\n",
       "      <td>0.000000</td>\n",
       "      <td>0.000000</td>\n",
       "    </tr>\n",
       "    <tr>\n",
       "      <th>25%</th>\n",
       "      <td>NaN</td>\n",
       "      <td>NaN</td>\n",
       "      <td>NaN</td>\n",
       "      <td>NaN</td>\n",
       "      <td>NaN</td>\n",
       "      <td>NaN</td>\n",
       "      <td>2.000000</td>\n",
       "      <td>12.000000</td>\n",
       "      <td>0.547050</td>\n",
       "      <td>22204.250000</td>\n",
       "    </tr>\n",
       "    <tr>\n",
       "      <th>50%</th>\n",
       "      <td>NaN</td>\n",
       "      <td>NaN</td>\n",
       "      <td>NaN</td>\n",
       "      <td>NaN</td>\n",
       "      <td>NaN</td>\n",
       "      <td>NaN</td>\n",
       "      <td>4.000000</td>\n",
       "      <td>21.000000</td>\n",
       "      <td>0.701700</td>\n",
       "      <td>32065.000000</td>\n",
       "    </tr>\n",
       "    <tr>\n",
       "      <th>75%</th>\n",
       "      <td>NaN</td>\n",
       "      <td>NaN</td>\n",
       "      <td>NaN</td>\n",
       "      <td>NaN</td>\n",
       "      <td>NaN</td>\n",
       "      <td>NaN</td>\n",
       "      <td>5.000000</td>\n",
       "      <td>31.000000</td>\n",
       "      <td>0.832050</td>\n",
       "      <td>45740.000000</td>\n",
       "    </tr>\n",
       "    <tr>\n",
       "      <th>max</th>\n",
       "      <td>NaN</td>\n",
       "      <td>NaN</td>\n",
       "      <td>NaN</td>\n",
       "      <td>NaN</td>\n",
       "      <td>NaN</td>\n",
       "      <td>NaN</td>\n",
       "      <td>9.000000</td>\n",
       "      <td>43.000000</td>\n",
       "      <td>1.000000</td>\n",
       "      <td>72717.000000</td>\n",
       "    </tr>\n",
       "  </tbody>\n",
       "</table>\n",
       "</div>"
      ],
      "text/plain": [
       "           OPEID         INSTNM      CITY STABBR    ZIP  \\\n",
       "count       1822           1822      1822   1822   1822   \n",
       "unique      1817           1806      1030     55   1772   \n",
       "top     00370200  Union College  New York     NY  02215   \n",
       "freq           2              3        30    181      3   \n",
       "mean         NaN            NaN       NaN    NaN    NaN   \n",
       "std          NaN            NaN       NaN    NaN    NaN   \n",
       "min          NaN            NaN       NaN    NaN    NaN   \n",
       "25%          NaN            NaN       NaN    NaN    NaN   \n",
       "50%          NaN            NaN       NaN    NaN    NaN   \n",
       "75%          NaN            NaN       NaN    NaN    NaN   \n",
       "max          NaN            NaN       NaN    NaN    NaN   \n",
       "\n",
       "                      INSTURL       REGION       LOCALE     ADM_RATE  \\\n",
       "count                    1822  1822.000000  1822.000000  1822.000000   \n",
       "unique                   1764          NaN          NaN          NaN   \n",
       "top     https://www.devry.edu          NaN          NaN          NaN   \n",
       "freq                       16          NaN          NaN          NaN   \n",
       "mean                      NaN     4.055434    19.840834     0.684968   \n",
       "std                       NaN     2.129189     9.461905     0.215220   \n",
       "min                       NaN     0.000000    -3.000000     0.000000   \n",
       "25%                       NaN     2.000000    12.000000     0.547050   \n",
       "50%                       NaN     4.000000    21.000000     0.701700   \n",
       "75%                       NaN     5.000000    31.000000     0.832050   \n",
       "max                       NaN     9.000000    43.000000     1.000000   \n",
       "\n",
       "            COSTT4_A  \n",
       "count    1822.000000  \n",
       "unique           NaN  \n",
       "top              NaN  \n",
       "freq             NaN  \n",
       "mean    34914.804061  \n",
       "std     15242.893066  \n",
       "min         0.000000  \n",
       "25%     22204.250000  \n",
       "50%     32065.000000  \n",
       "75%     45740.000000  \n",
       "max     72717.000000  "
      ]
     },
     "execution_count": 180,
     "metadata": {},
     "output_type": "execute_result"
    }
   ],
   "source": [
    "## full description of the data\n",
    "test_df.describe(include='all')"
   ]
  },
  {
   "cell_type": "code",
   "execution_count": 69,
   "metadata": {},
   "outputs": [
    {
     "data": {
      "text/plain": [
       "(1822, 10)"
      ]
     },
     "execution_count": 69,
     "metadata": {},
     "output_type": "execute_result"
    }
   ],
   "source": [
    "## DROPPING ROWS WITH NA VALUES IN SPECIFIC COLUMNS\n",
    "test_df.dropna(subset=['COSTT4_A', 'ADM_RATE'], inplace=True)\n",
    "\n",
    "## REPLACING NA with a 'NOT GIVEN'\n",
    "test_df.fillna(0, inplace=True)\n",
    "\n",
    "## REPLACING VALUES\n",
    "## replaces rates greater than 0.9 with 1.\n",
    "test_df['ADM_RATE'] = test_df['ADM_RATE'].apply(lambda x: x if(x<=0.9) else 1)\n",
    "\n",
    "## cleaning zip codes from special characters\n",
    "test_df['ZIP'].replace('-', '', inplace=True, regex=True)\n",
    "\n",
    "## REMOVING DUPLICATES\n",
    "test_df.drop_duplicates(inplace=True, keep='first') ## fisrt specifies that I want to keep one record as original and drop the rest of duplicates\n",
    "\n",
    "## CHANGING COLUMN NAME\n",
    "test_df.rename(columns={'STABBR': 'STATE'}, inplace=True)"
   ]
  },
  {
   "cell_type": "code",
   "execution_count": 3,
   "metadata": {},
   "outputs": [
    {
     "name": "stderr",
     "output_type": "stream",
     "text": [
      "C:\\Users\\Lucas\\AppData\\Local\\Temp\\ipykernel_13640\\3536928793.py:1: FutureWarning: The default value of numeric_only in DataFrame.corr is deprecated. In a future version, it will default to False. Select only valid columns or specify the value of numeric_only to silence this warning.\n",
      "  test_df.corr()\n"
     ]
    },
    {
     "data": {
      "text/html": [
       "<div>\n",
       "<style scoped>\n",
       "    .dataframe tbody tr th:only-of-type {\n",
       "        vertical-align: middle;\n",
       "    }\n",
       "\n",
       "    .dataframe tbody tr th {\n",
       "        vertical-align: top;\n",
       "    }\n",
       "\n",
       "    .dataframe thead th {\n",
       "        text-align: right;\n",
       "    }\n",
       "</style>\n",
       "<table border=\"1\" class=\"dataframe\">\n",
       "  <thead>\n",
       "    <tr style=\"text-align: right;\">\n",
       "      <th></th>\n",
       "      <th>REGION</th>\n",
       "      <th>LOCALE</th>\n",
       "      <th>ADM_RATE</th>\n",
       "      <th>COSTT4_A</th>\n",
       "    </tr>\n",
       "  </thead>\n",
       "  <tbody>\n",
       "    <tr>\n",
       "      <th>REGION</th>\n",
       "      <td>1.000000</td>\n",
       "      <td>-0.062665</td>\n",
       "      <td>-0.011816</td>\n",
       "      <td>-0.177156</td>\n",
       "    </tr>\n",
       "    <tr>\n",
       "      <th>LOCALE</th>\n",
       "      <td>-0.062665</td>\n",
       "      <td>1.000000</td>\n",
       "      <td>0.028920</td>\n",
       "      <td>-0.064817</td>\n",
       "    </tr>\n",
       "    <tr>\n",
       "      <th>ADM_RATE</th>\n",
       "      <td>-0.011816</td>\n",
       "      <td>0.028920</td>\n",
       "      <td>1.000000</td>\n",
       "      <td>-0.301401</td>\n",
       "    </tr>\n",
       "    <tr>\n",
       "      <th>COSTT4_A</th>\n",
       "      <td>-0.177156</td>\n",
       "      <td>-0.064817</td>\n",
       "      <td>-0.301401</td>\n",
       "      <td>1.000000</td>\n",
       "    </tr>\n",
       "  </tbody>\n",
       "</table>\n",
       "</div>"
      ],
      "text/plain": [
       "            REGION    LOCALE  ADM_RATE  COSTT4_A\n",
       "REGION    1.000000 -0.062665 -0.011816 -0.177156\n",
       "LOCALE   -0.062665  1.000000  0.028920 -0.064817\n",
       "ADM_RATE -0.011816  0.028920  1.000000 -0.301401\n",
       "COSTT4_A -0.177156 -0.064817 -0.301401  1.000000"
      ]
     },
     "execution_count": 3,
     "metadata": {},
     "output_type": "execute_result"
    }
   ],
   "source": [
    "## corr() method returns a table with correlation between columns.\n",
    "test_df.corr() "
   ]
  },
  {
   "cell_type": "code",
   "execution_count": 7,
   "metadata": {},
   "outputs": [
    {
     "data": {
      "text/html": [
       "<div>\n",
       "<style scoped>\n",
       "    .dataframe tbody tr th:only-of-type {\n",
       "        vertical-align: middle;\n",
       "    }\n",
       "\n",
       "    .dataframe tbody tr th {\n",
       "        vertical-align: top;\n",
       "    }\n",
       "\n",
       "    .dataframe thead th {\n",
       "        text-align: right;\n",
       "    }\n",
       "</style>\n",
       "<table border=\"1\" class=\"dataframe\">\n",
       "  <thead>\n",
       "    <tr style=\"text-align: right;\">\n",
       "      <th></th>\n",
       "      <th>REGION</th>\n",
       "      <th>LOCALE</th>\n",
       "    </tr>\n",
       "  </thead>\n",
       "  <tbody>\n",
       "    <tr>\n",
       "      <th>0</th>\n",
       "      <td>5</td>\n",
       "      <td>12.0</td>\n",
       "    </tr>\n",
       "    <tr>\n",
       "      <th>1</th>\n",
       "      <td>5</td>\n",
       "      <td>12.0</td>\n",
       "    </tr>\n",
       "    <tr>\n",
       "      <th>3</th>\n",
       "      <td>5</td>\n",
       "      <td>12.0</td>\n",
       "    </tr>\n",
       "    <tr>\n",
       "      <th>4</th>\n",
       "      <td>5</td>\n",
       "      <td>12.0</td>\n",
       "    </tr>\n",
       "    <tr>\n",
       "      <th>5</th>\n",
       "      <td>5</td>\n",
       "      <td>12.0</td>\n",
       "    </tr>\n",
       "  </tbody>\n",
       "</table>\n",
       "</div>"
      ],
      "text/plain": [
       "   REGION  LOCALE\n",
       "0       5    12.0\n",
       "1       5    12.0\n",
       "3       5    12.0\n",
       "4       5    12.0\n",
       "5       5    12.0"
      ]
     },
     "execution_count": 7,
     "metadata": {},
     "output_type": "execute_result"
    }
   ],
   "source": [
    "## BECAUSE IM WORKING WITH HA DATAAFRAME I NEED DOUBLE BRACKETS TO ACCESS THE METHOD\n",
    "test_df[['REGION', 'LOCALE']].head()"
   ]
  },
  {
   "cell_type": "code",
   "execution_count": 8,
   "metadata": {},
   "outputs": [
    {
     "data": {
      "text/plain": [
       "1030"
      ]
     },
     "execution_count": 8,
     "metadata": {},
     "output_type": "execute_result"
    }
   ],
   "source": [
    "## nunique() returns the unique number of appearances in a column\n",
    "test_df['CITY'].nunique() "
   ]
  },
  {
   "cell_type": "code",
   "execution_count": 20,
   "metadata": {},
   "outputs": [
    {
     "data": {
      "text/html": [
       "<div>\n",
       "<style scoped>\n",
       "    .dataframe tbody tr th:only-of-type {\n",
       "        vertical-align: middle;\n",
       "    }\n",
       "\n",
       "    .dataframe tbody tr th {\n",
       "        vertical-align: top;\n",
       "    }\n",
       "\n",
       "    .dataframe thead th {\n",
       "        text-align: right;\n",
       "    }\n",
       "</style>\n",
       "<table border=\"1\" class=\"dataframe\">\n",
       "  <thead>\n",
       "    <tr style=\"text-align: right;\">\n",
       "      <th></th>\n",
       "      <th>OPEID</th>\n",
       "      <th>INSTNM</th>\n",
       "      <th>INSTURL</th>\n",
       "      <th>COSTT4_A</th>\n",
       "    </tr>\n",
       "  </thead>\n",
       "  <tbody>\n",
       "    <tr>\n",
       "      <th>0</th>\n",
       "      <td>00100200</td>\n",
       "      <td>Alabama A &amp; M University</td>\n",
       "      <td>www.aamu.edu/</td>\n",
       "      <td>22886.0</td>\n",
       "    </tr>\n",
       "    <tr>\n",
       "      <th>1</th>\n",
       "      <td>00105200</td>\n",
       "      <td>University of Alabama at Birmingham</td>\n",
       "      <td>www.uab.edu</td>\n",
       "      <td>24129.0</td>\n",
       "    </tr>\n",
       "    <tr>\n",
       "      <th>3</th>\n",
       "      <td>00105500</td>\n",
       "      <td>University of Alabama in Huntsville</td>\n",
       "      <td>www.uah.edu</td>\n",
       "      <td>22108.0</td>\n",
       "    </tr>\n",
       "  </tbody>\n",
       "</table>\n",
       "</div>"
      ],
      "text/plain": [
       "      OPEID                               INSTNM        INSTURL  COSTT4_A\n",
       "0  00100200             Alabama A & M University  www.aamu.edu/   22886.0\n",
       "1  00105200  University of Alabama at Birmingham    www.uab.edu   24129.0\n",
       "3  00105500  University of Alabama in Huntsville    www.uah.edu   22108.0"
      ]
     },
     "execution_count": 20,
     "metadata": {},
     "output_type": "execute_result"
    }
   ],
   "source": [
    "## loc[] method allows label based indexing. It can access values in specified rows using bracket notation.\n",
    "test_df.loc[3, 'INSTNM']\n",
    "test_df.loc[:3, 'INSTNM':'ZIP'] ## I can access a range of rows in a column range\n",
    "test_df.loc[[3, 10], ['INSTNM', 'ZIP']] ## Accessing only a few rows of certain columns.\n",
    "\n",
    "## iloc[] method allows pure numerical indexing.\n",
    "test_df.iloc[:3] ## rows 0 to 3 for all columns\n",
    "test_df.iloc[:3, 3:6] ## rows 0 to 3 and colums with index 3 to 6\n",
    "test_df.iloc[:3, [0, 1, 5, 9]] ## rows from 0 to 3, and columns with index 0, 1, 5 and 9"
   ]
  },
  {
   "cell_type": "code",
   "execution_count": 43,
   "metadata": {},
   "outputs": [
    {
     "data": {
      "text/html": [
       "<div>\n",
       "<style scoped>\n",
       "    .dataframe tbody tr th:only-of-type {\n",
       "        vertical-align: middle;\n",
       "    }\n",
       "\n",
       "    .dataframe tbody tr th {\n",
       "        vertical-align: top;\n",
       "    }\n",
       "\n",
       "    .dataframe thead th {\n",
       "        text-align: right;\n",
       "    }\n",
       "</style>\n",
       "<table border=\"1\" class=\"dataframe\">\n",
       "  <thead>\n",
       "    <tr style=\"text-align: right;\">\n",
       "      <th></th>\n",
       "      <th>OPEID</th>\n",
       "      <th>INSTNM</th>\n",
       "      <th>CITY</th>\n",
       "      <th>STATE</th>\n",
       "      <th>ZIP</th>\n",
       "      <th>INSTURL</th>\n",
       "      <th>REGION</th>\n",
       "      <th>LOCALE</th>\n",
       "      <th>ADM_RATE</th>\n",
       "      <th>COSTT4_A</th>\n",
       "    </tr>\n",
       "  </thead>\n",
       "  <tbody>\n",
       "    <tr>\n",
       "      <th>0</th>\n",
       "      <td>00100200</td>\n",
       "      <td>Alabama A &amp; M University</td>\n",
       "      <td>Normal</td>\n",
       "      <td>AL</td>\n",
       "      <td>35762</td>\n",
       "      <td>www.aamu.edu/</td>\n",
       "      <td>5</td>\n",
       "      <td>12.0</td>\n",
       "      <td>1.0000</td>\n",
       "      <td>22886.0</td>\n",
       "    </tr>\n",
       "    <tr>\n",
       "      <th>1</th>\n",
       "      <td>00105200</td>\n",
       "      <td>University of Alabama at Birmingham</td>\n",
       "      <td>Birmingham</td>\n",
       "      <td>AL</td>\n",
       "      <td>352940110</td>\n",
       "      <td>www.uab.edu</td>\n",
       "      <td>5</td>\n",
       "      <td>12.0</td>\n",
       "      <td>1.0000</td>\n",
       "      <td>24129.0</td>\n",
       "    </tr>\n",
       "    <tr>\n",
       "      <th>3</th>\n",
       "      <td>00105500</td>\n",
       "      <td>University of Alabama in Huntsville</td>\n",
       "      <td>Huntsville</td>\n",
       "      <td>AL</td>\n",
       "      <td>35899</td>\n",
       "      <td>www.uah.edu</td>\n",
       "      <td>5</td>\n",
       "      <td>12.0</td>\n",
       "      <td>0.8123</td>\n",
       "      <td>22108.0</td>\n",
       "    </tr>\n",
       "    <tr>\n",
       "      <th>4</th>\n",
       "      <td>00100500</td>\n",
       "      <td>Alabama State University</td>\n",
       "      <td>Montgomery</td>\n",
       "      <td>AL</td>\n",
       "      <td>361040271</td>\n",
       "      <td>www.alasu.edu</td>\n",
       "      <td>5</td>\n",
       "      <td>12.0</td>\n",
       "      <td>1.0000</td>\n",
       "      <td>19413.0</td>\n",
       "    </tr>\n",
       "    <tr>\n",
       "      <th>5</th>\n",
       "      <td>00105100</td>\n",
       "      <td>The University of Alabama</td>\n",
       "      <td>Tuscaloosa</td>\n",
       "      <td>AL</td>\n",
       "      <td>354870166</td>\n",
       "      <td>www.ua.edu/</td>\n",
       "      <td>5</td>\n",
       "      <td>12.0</td>\n",
       "      <td>0.5330</td>\n",
       "      <td>28836.0</td>\n",
       "    </tr>\n",
       "  </tbody>\n",
       "</table>\n",
       "</div>"
      ],
      "text/plain": [
       "      OPEID                               INSTNM        CITY STATE        ZIP  \\\n",
       "0  00100200             Alabama A & M University      Normal    AL      35762   \n",
       "1  00105200  University of Alabama at Birmingham  Birmingham    AL  352940110   \n",
       "3  00105500  University of Alabama in Huntsville  Huntsville    AL      35899   \n",
       "4  00100500             Alabama State University  Montgomery    AL  361040271   \n",
       "5  00105100            The University of Alabama  Tuscaloosa    AL  354870166   \n",
       "\n",
       "         INSTURL  REGION  LOCALE  ADM_RATE  COSTT4_A  \n",
       "0  www.aamu.edu/       5    12.0    1.0000   22886.0  \n",
       "1    www.uab.edu       5    12.0    1.0000   24129.0  \n",
       "3    www.uah.edu       5    12.0    0.8123   22108.0  \n",
       "4  www.alasu.edu       5    12.0    1.0000   19413.0  \n",
       "5    www.ua.edu/       5    12.0    0.5330   28836.0  "
      ]
     },
     "execution_count": 43,
     "metadata": {},
     "output_type": "execute_result"
    }
   ],
   "source": [
    "## isin() useful method for filtering\n",
    "alabama_inst = test_df[test_df['STATE'].isin(['AL'])]\n",
    "alabama_inst.head()\n",
    "\n",
    "## query() also handy for filtering\n",
    "test_df.query('ADM_RATE > 0.8')\n",
    "test_df.query('CITY == \"Boston\" and ADM_RATE > 0.85')\n",
    "\n",
    "## filtering with brackets\n",
    "test_df[(test_df['CITY'] == 'Boston') & (test_df['ADM_RATE'] > 0.85)]"
   ]
  },
  {
   "cell_type": "code",
   "execution_count": 47,
   "metadata": {},
   "outputs": [
    {
     "name": "stderr",
     "output_type": "stream",
     "text": [
      "C:\\Users\\Lucas\\AppData\\Local\\Temp\\ipykernel_13640\\3120545834.py:6: PerformanceWarning: indexing past lexsort depth may impact performance.\n",
      "  test_df.set_index(['CITY', 'STATE']).loc[('Bloomington', 'MN')]\n"
     ]
    },
    {
     "data": {
      "text/html": [
       "<div>\n",
       "<style scoped>\n",
       "    .dataframe tbody tr th:only-of-type {\n",
       "        vertical-align: middle;\n",
       "    }\n",
       "\n",
       "    .dataframe tbody tr th {\n",
       "        vertical-align: top;\n",
       "    }\n",
       "\n",
       "    .dataframe thead th {\n",
       "        text-align: right;\n",
       "    }\n",
       "</style>\n",
       "<table border=\"1\" class=\"dataframe\">\n",
       "  <thead>\n",
       "    <tr style=\"text-align: right;\">\n",
       "      <th></th>\n",
       "      <th></th>\n",
       "      <th>OPEID</th>\n",
       "      <th>INSTNM</th>\n",
       "      <th>ZIP</th>\n",
       "      <th>INSTURL</th>\n",
       "      <th>REGION</th>\n",
       "      <th>LOCALE</th>\n",
       "      <th>ADM_RATE</th>\n",
       "      <th>COSTT4_A</th>\n",
       "    </tr>\n",
       "    <tr>\n",
       "      <th>CITY</th>\n",
       "      <th>STATE</th>\n",
       "      <th></th>\n",
       "      <th></th>\n",
       "      <th></th>\n",
       "      <th></th>\n",
       "      <th></th>\n",
       "      <th></th>\n",
       "      <th></th>\n",
       "      <th></th>\n",
       "    </tr>\n",
       "  </thead>\n",
       "  <tbody>\n",
       "    <tr>\n",
       "      <th>Bloomington</th>\n",
       "      <th>MN</th>\n",
       "      <td>04227800</td>\n",
       "      <td>Bethany Global University</td>\n",
       "      <td>554382849</td>\n",
       "      <td>https://www.bethanygu.edu/</td>\n",
       "      <td>4</td>\n",
       "      <td>13.0</td>\n",
       "      <td>1.0</td>\n",
       "      <td>22570.0</td>\n",
       "    </tr>\n",
       "  </tbody>\n",
       "</table>\n",
       "</div>"
      ],
      "text/plain": [
       "                      OPEID                     INSTNM        ZIP  \\\n",
       "CITY        STATE                                                   \n",
       "Bloomington MN     04227800  Bethany Global University  554382849   \n",
       "\n",
       "                                      INSTURL  REGION  LOCALE  ADM_RATE  \\\n",
       "CITY        STATE                                                         \n",
       "Bloomington MN     https://www.bethanygu.edu/       4    13.0       1.0   \n",
       "\n",
       "                   COSTT4_A  \n",
       "CITY        STATE            \n",
       "Bloomington MN      22570.0  "
      ]
     },
     "execution_count": 47,
     "metadata": {},
     "output_type": "execute_result"
    }
   ],
   "source": [
    "## setting new indexes.\n",
    "df_city=test_df.set_index('CITY') ## column CITY will now be index.\n",
    "df_city.head() ## we see that CITY column is now the first one as it's now the index\n",
    "df_city.loc['Cambridge'] ## getting all rows with cambridge index\n",
    "\n",
    "## Setting two column indexxes and accessing data with loc[]\n",
    "test_df.set_index(['CITY', 'STATE']).loc[('Bloomington', 'MN')] "
   ]
  },
  {
   "cell_type": "code",
   "execution_count": 67,
   "metadata": {},
   "outputs": [
    {
     "data": {
      "text/plain": [
       "Index(['OPEID', 'INSTNM', 'STATE', 'ZIP', 'INSTURL', 'REGION', 'LOCALE',\n",
       "       'ADM_RATE', 'COSTT4_A'],\n",
       "      dtype='object')"
      ]
     },
     "execution_count": 67,
     "metadata": {},
     "output_type": "execute_result"
    }
   ],
   "source": [
    "## droping columns using axis parameter\n",
    "df_new = test_df\n",
    "## df_new = test_df.drop(0, axis) ## axis=1 or axis='columns' drops a column // axis=0 or axis='index' drops rows\n",
    "df_new = test_df.drop('CITY', axis=1) ## axis=1 or axis='columns' drops a column // axis=0 or axis='index' drops rows\n",
    "df_new.columns"
   ]
  },
  {
   "cell_type": "code",
   "execution_count": 70,
   "metadata": {},
   "outputs": [
    {
     "data": {
      "text/plain": [
       "OPEID       1822\n",
       "INSTNM      1822\n",
       "CITY        1822\n",
       "STATE       1822\n",
       "ZIP         1822\n",
       "INSTURL     1822\n",
       "REGION      1822\n",
       "LOCALE      1822\n",
       "ADM_RATE    1822\n",
       "COSTT4_A    1822\n",
       "dtype: int64"
      ]
     },
     "execution_count": 70,
     "metadata": {},
     "output_type": "execute_result"
    }
   ],
   "source": [
    "## count non-NA values for each column\n",
    "test_df.count()"
   ]
  },
  {
   "cell_type": "code",
   "execution_count": null,
   "metadata": {},
   "outputs": [],
   "source": [
    "import pandas as pd\n",
    "df_econ = pd.read_excel(\"AGI_zipcode_2016.xlsx\",dtype={'zipcode':str})\n",
    "df_econ.head()\n",
    "df_merged=df.merge(df_econ,left_on='ZIP',right_on='zipcode', how='left')\n",
    "df_merged[['INSTNM','ZIP','AGI']].head(10)"
   ]
  },
  {
   "cell_type": "code",
   "execution_count": 82,
   "metadata": {},
   "outputs": [
    {
     "name": "stdout",
     "output_type": "stream",
     "text": [
      "Collecting openpyxl\n",
      "  Downloading openpyxl-3.1.2-py2.py3-none-any.whl (249 kB)\n",
      "     ---------------------------------------- 0.0/250.0 kB ? eta -:--:--\n",
      "     ----------------- -------------------- 112.6/250.0 kB 3.3 MB/s eta 0:00:01\n",
      "     -------------------------------------- 250.0/250.0 kB 3.1 MB/s eta 0:00:00\n",
      "Collecting et-xmlfile\n",
      "  Downloading et_xmlfile-1.1.0-py3-none-any.whl (4.7 kB)\n",
      "Installing collected packages: et-xmlfile, openpyxl\n",
      "Successfully installed et-xmlfile-1.1.0 openpyxl-3.1.2\n"
     ]
    }
   ],
   "source": [
    "!pip install openpyxl ## to read excel files"
   ]
  },
  {
   "cell_type": "code",
   "execution_count": 7,
   "metadata": {},
   "outputs": [],
   "source": [
    "import pandas as pd\n",
    "zipcode_df = pd.read_excel('AGI_zipcode_2016.xlsx', dtype={'zipcode': str})\n",
    "inst_df = pd.read_csv('college_scorecard_2017-18.zip', dtype={'OPEID': str})"
   ]
  },
  {
   "cell_type": "code",
   "execution_count": 8,
   "metadata": {},
   "outputs": [],
   "source": [
    "## JOINING TABLES merge() method\n",
    "## LEFT JOIN\n",
    "inst_zipcode = inst_df.merge(zipcode_df, left_on='ZIP', right_on='zipcode', how='left')"
   ]
  },
  {
   "cell_type": "code",
   "execution_count": 12,
   "metadata": {},
   "outputs": [
    {
     "data": {
      "text/html": [
       "<div>\n",
       "<style scoped>\n",
       "    .dataframe tbody tr th:only-of-type {\n",
       "        vertical-align: middle;\n",
       "    }\n",
       "\n",
       "    .dataframe tbody tr th {\n",
       "        vertical-align: top;\n",
       "    }\n",
       "\n",
       "    .dataframe thead th {\n",
       "        text-align: right;\n",
       "    }\n",
       "</style>\n",
       "<table border=\"1\" class=\"dataframe\">\n",
       "  <thead>\n",
       "    <tr style=\"text-align: right;\">\n",
       "      <th></th>\n",
       "      <th>INSTNM</th>\n",
       "      <th>ZIP</th>\n",
       "      <th>zipcode</th>\n",
       "    </tr>\n",
       "  </thead>\n",
       "  <tbody>\n",
       "    <tr>\n",
       "      <th>0</th>\n",
       "      <td>Alabama A &amp; M University</td>\n",
       "      <td>35762</td>\n",
       "      <td>NaN</td>\n",
       "    </tr>\n",
       "    <tr>\n",
       "      <th>1</th>\n",
       "      <td>University of Alabama at Birmingham</td>\n",
       "      <td>35294-0110</td>\n",
       "      <td>NaN</td>\n",
       "    </tr>\n",
       "    <tr>\n",
       "      <th>2</th>\n",
       "      <td>Amridge University</td>\n",
       "      <td>36117-3553</td>\n",
       "      <td>NaN</td>\n",
       "    </tr>\n",
       "    <tr>\n",
       "      <th>3</th>\n",
       "      <td>University of Alabama in Huntsville</td>\n",
       "      <td>35899</td>\n",
       "      <td>NaN</td>\n",
       "    </tr>\n",
       "    <tr>\n",
       "      <th>4</th>\n",
       "      <td>Alabama State University</td>\n",
       "      <td>36104-0271</td>\n",
       "      <td>NaN</td>\n",
       "    </tr>\n",
       "    <tr>\n",
       "      <th>5</th>\n",
       "      <td>The University of Alabama</td>\n",
       "      <td>35487-0166</td>\n",
       "      <td>NaN</td>\n",
       "    </tr>\n",
       "    <tr>\n",
       "      <th>6</th>\n",
       "      <td>Central Alabama Community College</td>\n",
       "      <td>35010</td>\n",
       "      <td>35010</td>\n",
       "    </tr>\n",
       "    <tr>\n",
       "      <th>7</th>\n",
       "      <td>Athens State University</td>\n",
       "      <td>35611</td>\n",
       "      <td>35611</td>\n",
       "    </tr>\n",
       "    <tr>\n",
       "      <th>8</th>\n",
       "      <td>Auburn University at Montgomery</td>\n",
       "      <td>36117-3596</td>\n",
       "      <td>NaN</td>\n",
       "    </tr>\n",
       "    <tr>\n",
       "      <th>9</th>\n",
       "      <td>Auburn University</td>\n",
       "      <td>36849</td>\n",
       "      <td>NaN</td>\n",
       "    </tr>\n",
       "  </tbody>\n",
       "</table>\n",
       "</div>"
      ],
      "text/plain": [
       "                                INSTNM         ZIP zipcode\n",
       "0             Alabama A & M University       35762     NaN\n",
       "1  University of Alabama at Birmingham  35294-0110     NaN\n",
       "2                   Amridge University  36117-3553     NaN\n",
       "3  University of Alabama in Huntsville       35899     NaN\n",
       "4             Alabama State University  36104-0271     NaN\n",
       "5            The University of Alabama  35487-0166     NaN\n",
       "6    Central Alabama Community College       35010   35010\n",
       "7              Athens State University       35611   35611\n",
       "8      Auburn University at Montgomery  36117-3596     NaN\n",
       "9                    Auburn University       36849     NaN"
      ]
     },
     "execution_count": 12,
     "metadata": {},
     "output_type": "execute_result"
    }
   ],
   "source": [
    "inst_zipcode.head()\n",
    "inst_zipcode[['INSTNM','ZIP','zipcode']].head(10)"
   ]
  },
  {
   "cell_type": "code",
   "execution_count": 36,
   "metadata": {},
   "outputs": [
    {
     "data": {
      "text/plain": [
       "<pandas.core.groupby.generic.DataFrameGroupBy object at 0x0000026EDE4E9F60>"
      ]
     },
     "execution_count": 36,
     "metadata": {},
     "output_type": "execute_result"
    }
   ],
   "source": [
    "## sorting values in descending order\n",
    "inst_df.sort_values('ADM_RATE', ascending=False).head(20)\n",
    "inst_df['ADM_RATE'].mean()\n",
    "inst_df['REGION'].value_counts()"
   ]
  },
  {
   "cell_type": "code",
   "execution_count": 30,
   "metadata": {},
   "outputs": [
    {
     "data": {
      "text/plain": [
       "OPEID       2019\n",
       "INSTNM      2019\n",
       "CITY        2019\n",
       "STABBR      2019\n",
       "ZIP         2019\n",
       "INSTURL     2017\n",
       "REGION      2019\n",
       "LOCALE      2019\n",
       "ADM_RATE    2019\n",
       "COSTT4_A    1822\n",
       "dtype: int64"
      ]
     },
     "execution_count": 30,
     "metadata": {},
     "output_type": "execute_result"
    }
   ],
   "source": [
    "inst_df.dropna(subset=['ADM_RATE'], inplace=True)\n",
    "inst_df.count()"
   ]
  },
  {
   "cell_type": "code",
   "execution_count": 54,
   "metadata": {},
   "outputs": [
    {
     "data": {
      "text/plain": [
       "REGION\n",
       "0                                        [CO, MD, NY]\n",
       "1                            [CT, ME, MA, NH, RI, VT]\n",
       "2                            [NY, DE, DC, MD, NJ, PA]\n",
       "3                                [IL, IN, MI, OH, WI]\n",
       "4                        [IA, KS, MO, MN, NE, ND, SD]\n",
       "5    [AL, AR, FL, GA, KY, LA, MS, NC, SC, TN, VA, WV]\n",
       "6                                    [AZ, NM, OK, TX]\n",
       "7                                [CO, ID, MT, UT, WY]\n",
       "8                            [AK, CA, HI, NV, OR, WA]\n",
       "9                                    [PR, FM, VI, GU]\n",
       "Name: STABBR, dtype: object"
      ]
     },
     "execution_count": 54,
     "metadata": {},
     "output_type": "execute_result"
    }
   ],
   "source": [
    "inst_df[[\"STABBR\",\"REGION\"]].groupby(\"REGION\")[\"STABBR\"].unique()"
   ]
  },
  {
   "cell_type": "code",
   "execution_count": null,
   "metadata": {},
   "outputs": [],
   "source": []
  }
 ],
 "metadata": {
  "kernelspec": {
   "display_name": "Python 3",
   "language": "python",
   "name": "python3"
  },
  "language_info": {
   "codemirror_mode": {
    "name": "ipython",
    "version": 3
   },
   "file_extension": ".py",
   "mimetype": "text/x-python",
   "name": "python",
   "nbconvert_exporter": "python",
   "pygments_lexer": "ipython3",
   "version": "3.10.10"
  },
  "orig_nbformat": 4
 },
 "nbformat": 4,
 "nbformat_minor": 2
}
