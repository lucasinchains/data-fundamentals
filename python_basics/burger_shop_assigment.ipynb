{
 "cells": [
  {
   "cell_type": "code",
   "execution_count": 1,
   "metadata": {},
   "outputs": [
    {
     "name": "stdout",
     "output_type": "stream",
     "text": [
      "hi\n"
     ]
    }
   ],
   "source": [
    "print('hi')"
   ]
  },
  {
   "cell_type": "code",
   "execution_count": 78,
   "metadata": {},
   "outputs": [
    {
     "name": "stdout",
     "output_type": "stream",
     "text": [
      "['french fries', 'Small', None]\n",
      "['Vegan', 'Small', 'Ketchup']\n"
     ]
    },
    {
     "data": {
      "text/plain": [
       "{'detail': [<__main__.Order at 0x15e28263a50>,\n",
       "  <__main__.FoodItem at 0x15e292ec250>],\n",
       " 'price': 12}"
      ]
     },
     "execution_count": 78,
     "metadata": {},
     "output_type": "execute_result"
    }
   ],
   "source": [
    "# implement the classes listed below\n",
    "\n",
    "menu = {\n",
    "        \"burgers\": {\"bacon\": 12.99, \"chicken\": 10.99, \"vegan\": 9.99},\n",
    "        \"drinks\": {\"coke\": 2.99, \"fanta\": 2.99, \"sprite\": 2.99},\n",
    "        \"sides\": {\"french fries\": 2.99, \"sweet potatoes fries\": 3.49},\n",
    "    }\n",
    "\n",
    "sizes = {\"small\": 0, \"medium\": 2, \"large\": 3}\n",
    "\n",
    "condiments = ['ketchup', 'mayoneese', 'mustard']\n",
    "\n",
    "class FoodItem():\n",
    "    def __init__(self, type, size, condiment= None):\n",
    "        self.type = type\n",
    "        self.size = size\n",
    "        self.condiment = condiment\n",
    "\n",
    "    def __str__(self) -> str:\n",
    "        single_item = [self.type, self.size, self.condiment]\n",
    "        return f\"{single_item}\"\n",
    "\n",
    "class Burger(FoodItem):\n",
    "    def __init__(self, type, size, condiment=None):\n",
    "        super().__init__(type, size, condiment)\n",
    "        self.type = type\n",
    "\n",
    "class Side(FoodItem):\n",
    "    def __init__(self, type, size, condiment=None):\n",
    "        super().__init__(type, size, condiment)\n",
    "\n",
    "\n",
    "class Drink(FoodItem):\n",
    "    def __init__(self, type, size, condiment=None):\n",
    "        super().__init__(type, size, condiment)\n",
    "        \n",
    "\n",
    "class Combo:\n",
    "    def __init__(self, *comboItem: FoodItem) -> None:\n",
    "        self.comboItem = [*comboItem]\n",
    "\n",
    "class Order:\n",
    "    pass\n",
    "\n",
    "fi1 = FoodItem('Vegan', 'Small', 'Ketchup')\n",
    "fi2 = FoodItem('french fries', 'Small')\n",
    "print(fi2); print(fi1)\n",
    "\n",
    "\n",
    "o1 = Order()\n",
    "o1.setOrder(fi1)\n",
    "\n"
   ]
  },
  {
   "cell_type": "code",
   "execution_count": null,
   "metadata": {},
   "outputs": [],
   "source": []
  }
 ],
 "metadata": {
  "kernelspec": {
   "display_name": "Python 3",
   "language": "python",
   "name": "python3"
  },
  "language_info": {
   "codemirror_mode": {
    "name": "ipython",
    "version": 3
   },
   "file_extension": ".py",
   "mimetype": "text/x-python",
   "name": "python",
   "nbconvert_exporter": "python",
   "pygments_lexer": "ipython3",
   "version": "3.11.2"
  },
  "orig_nbformat": 4
 },
 "nbformat": 4,
 "nbformat_minor": 2
}
