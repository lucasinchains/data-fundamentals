{
 "cells": [
  {
   "cell_type": "code",
   "execution_count": 1,
   "metadata": {},
   "outputs": [
    {
     "name": "stdout",
     "output_type": "stream",
     "text": [
      "Hello World\n"
     ]
    }
   ],
   "source": [
    "print('Hello World')"
   ]
  },
  {
   "cell_type": "code",
   "execution_count": 4,
   "metadata": {},
   "outputs": [
    {
     "name": "stdout",
     "output_type": "stream",
     "text": [
      "10\n"
     ]
    }
   ],
   "source": [
    "a = 10\n",
    "print(a)"
   ]
  },
  {
   "cell_type": "code",
   "execution_count": 10,
   "metadata": {},
   "outputs": [
    {
     "name": "stdout",
     "output_type": "stream",
     "text": [
      "a  is yes10 yeah!"
     ]
    }
   ],
   "source": [
    "print('a  is', a, sep=' yes', end= ' yeah!')"
   ]
  },
  {
   "cell_type": "code",
   "execution_count": 12,
   "metadata": {},
   "outputs": [
    {
     "name": "stdout",
     "output_type": "stream",
     "text": [
      "The sum of  5  and  5  is  10\n"
     ]
    }
   ],
   "source": [
    "a= int(input(\"Enter number\"))\n",
    "b= int(input(\"Enter another number\"))\n",
    "print('The sum of ', a, ' and ', b, ' is ', a + b)"
   ]
  },
  {
   "cell_type": "code",
   "execution_count": 20,
   "metadata": {},
   "outputs": [
    {
     "name": "stdout",
     "output_type": "stream",
     "text": [
      "['John', 22, ['Germany', 'Dortmund', 55456]] John 22 ['Germany', 'Dortmund', 55456]\n",
      "<class 'list'> <class 'str'> <class 'int'>\n"
     ]
    }
   ],
   "source": [
    "## LISTS\n",
    "my_list = ['John', 22, ['Germany', 'Dortmund', 55456]] ## THIS IS A LIST. Ordered. Changeble. \n",
    "first_entry = my_list[0] ## I can access elements of the list with []\n",
    "second_entry = my_list[1]\n",
    "third_entry = my_list[2]\n",
    "print(my_list, first_entry, second_entry, third_entry)\n",
    "print(type(my_list), type(first_entry), type(second_entry)) ## reading datatypes"
   ]
  },
  {
   "cell_type": "code",
   "execution_count": 36,
   "metadata": {},
   "outputs": [
    {
     "name": "stdout",
     "output_type": "stream",
     "text": [
      "<class 'str'>\n",
      "<class 'tuple'>\n",
      "('Apple', 'Orange', 'Banana', 5)\n",
      "('John', 22, ['Germany', 'Dortmund', 55456])\n",
      "<class 'tuple'>\n"
     ]
    },
    {
     "data": {
      "text/plain": [
       "4"
      ]
     },
     "execution_count": 36,
     "metadata": {},
     "output_type": "execute_result"
    }
   ],
   "source": [
    "## TUPLES\n",
    "my_tuple = ('Apple', 'Orange', 'Banana', 5) ## Tuple declaration 1\n",
    "my_tuple2 = tuple(my_list) ## Tuple declaration 2 \n",
    "my_tuple3 = (\"Kiwi\") ## this is a string\n",
    "print(type(my_tuple3))\n",
    "my_tuple4 = (\"Kiwi\",) ## this is a Tuple. Need the \",\" to not make it a string\n",
    "print(type(my_tuple4))\n",
    "## TypeError: 'tuple' object does not support item assignment ## TUPLES are unmutables. Cannot be changed.\n",
    "print(my_tuple)\n",
    "print(my_tuple2)\n",
    "print(type(my_tuple))\n",
    "len(my_tuple)"
   ]
  },
  {
   "cell_type": "code",
   "execution_count": 38,
   "metadata": {},
   "outputs": [
    {
     "name": "stdout",
     "output_type": "stream",
     "text": [
      "Hi Python\n",
      "Hi Python\n",
      "\"Hi Python\"\n"
     ]
    }
   ],
   "source": [
    "## STRINGS\n",
    "string1 = 'Hi Python'\n",
    "string2 = \"\"\"Hi Python\"\"\"\n",
    "string3 = '''\"Hi Python\"''' \n",
    "print(string1); print(string2); print(string3)"
   ]
  },
  {
   "cell_type": "code",
   "execution_count": 13,
   "metadata": {},
   "outputs": [
    {
     "name": "stdout",
     "output_type": "stream",
     "text": [
      "<class 'dict'>\n",
      "{'Name': 'Lucas', 'Salary': 50000, 'Company': 'Essity'}\n",
      "dict_items([('Name', 'Lucas'), ('Salary', 50000), ('Company', 'Essity')])\n"
     ]
    }
   ],
   "source": [
    "## DICTIONARIES\n",
    "## Dics are key value pairs\n",
    "employee = {'Name': 'Lucas', 'Salary': 50000, 'Company': 'Essity'}\n",
    "describe_keys = employee.keys()\n",
    "describe_values = employee.values()\n",
    "describe_items = employee.items() ## returns key and values as dictonaries\n",
    "print(type(employee)); print(employee); print(describe_items)"
   ]
  },
  {
   "cell_type": "code",
   "execution_count": 50,
   "metadata": {},
   "outputs": [
    {
     "name": "stdout",
     "output_type": "stream",
     "text": [
      "<class 'set'>\n",
      "{50000, 'Lucas'}\n"
     ]
    }
   ],
   "source": [
    "## SETS\n",
    "## without the keys, it's a SET\n",
    "employee2 = {'Lucas', 50000, 'Lucas'}\n",
    "print(type(employee2)); print(employee2)"
   ]
  },
  {
   "cell_type": "code",
   "execution_count": 45,
   "metadata": {},
   "outputs": [
    {
     "name": "stdout",
     "output_type": "stream",
     "text": [
      "1\n",
      "2\n",
      "3\n",
      "4\n",
      "up to four now\n"
     ]
    }
   ],
   "source": [
    "numbers = [1, 2, 3, 4, 5]\n",
    "for number in numbers:\n",
    "    print(number)\n",
    "    if number == 4:\n",
    "        print('up to four now')\n",
    "        break"
   ]
  },
  {
   "cell_type": "code",
   "execution_count": 49,
   "metadata": {},
   "outputs": [
    {
     "name": "stdout",
     "output_type": "stream",
     "text": [
      "140714001691560\n",
      "140714001691560\n",
      "2425206475792\n",
      "2425206478576 2425206478576 2425206478576\n"
     ]
    }
   ],
   "source": [
    "a = 50\n",
    "a = b\n",
    "print(id(a)); print(id(b))\n",
    "a = 500 ## creates a new space in memory and asigns a to 500. 50 will remain in memory until deleted\n",
    "print(id(a)) ## unmutable. location of the object 'a' changes with the new variable\n",
    "x = y = z = 5000 ## another way to declare multiple variables of same value\n",
    "print(id(x), id(y), id(z)) ## same ID. Pointing to the same space in memory"
   ]
  },
  {
   "cell_type": "code",
   "execution_count": 4,
   "metadata": {},
   "outputs": [
    {
     "name": "stdout",
     "output_type": "stream",
     "text": [
      "[10, 9, 8, 7, 6, 5, 4, 3, 2, 1]\n",
      "1\n",
      "3\n",
      "5\n",
      "7\n",
      "9\n",
      "11\n",
      "13\n",
      "15\n",
      "17\n",
      "19\n",
      "finished\n"
     ]
    }
   ],
   "source": [
    "print(list(range(10,0, -1)))\n",
    "\n",
    "my_tuple = tuple(range(0, 20, 1))\n",
    "for i in my_tuple:\n",
    "    if i%2 != 0:\n",
    "        print(i)\n",
    "    \n",
    "print('finished')"
   ]
  },
  {
   "cell_type": "code",
   "execution_count": 6,
   "metadata": {},
   "outputs": [
    {
     "name": "stdout",
     "output_type": "stream",
     "text": [
      "1\n",
      "2\n",
      "3\n",
      "4\n",
      "5\n",
      "6\n",
      "7\n",
      "8\n",
      "9\n",
      "10\n",
      "finished\n"
     ]
    }
   ],
   "source": [
    "counter= 0\n",
    "while counter < 10:\n",
    "    counter += 1\n",
    "    print(counter)\n",
    "print('finished')"
   ]
  },
  {
   "cell_type": "code",
   "execution_count": 9,
   "metadata": {},
   "outputs": [
    {
     "name": "stdout",
     "output_type": "stream",
     "text": [
      "last letter p\n",
      "g\n",
      "e\n",
      "e\n",
      "Pass executed\n",
      "k\n",
      "s\n",
      "\n",
      "g\n",
      "e\n",
      "e\n",
      "Continue executed\n",
      "s\n"
     ]
    }
   ],
   "source": [
    "for string in 'This is a for loop':\n",
    "    continue\n",
    "print('last letter', string)\n",
    "\n",
    "s = \"geeks\"\n",
    " \n",
    "# Pass statement\n",
    "for i in s:\n",
    "    if i == 'k':\n",
    "        print('Pass executed')\n",
    "        pass\n",
    "    print(i)\n",
    " \n",
    "print()\n",
    "     \n",
    "# Continue statement\n",
    "for i in s:\n",
    "    if i == 'k':\n",
    "        print('Continue executed')\n",
    "        continue\n",
    "    print(i)\n"
   ]
  },
  {
   "cell_type": "code",
   "execution_count": 29,
   "metadata": {},
   "outputs": [
    {
     "name": "stdout",
     "output_type": "stream",
     "text": [
      "1\n",
      "3\n",
      "5\n",
      "7\n",
      "9\n",
      "Total amount of odd numbers is:  5\n"
     ]
    }
   ],
   "source": [
    "count= 0\n",
    "for i in range(0, 10):\n",
    "    if i%2 != 0:\n",
    "        count += 1\n",
    "        print(i)\n",
    "print('Total amount of odd numbers is: ', count)"
   ]
  },
  {
   "cell_type": "code",
   "execution_count": 19,
   "metadata": {},
   "outputs": [
    {
     "name": "stdout",
     "output_type": "stream",
     "text": [
      "Lucas has a grade of  10\n"
     ]
    }
   ],
   "source": [
    "## ACCESSING Dictionaries\n",
    "grades = {'Lucas': 10, 'Juan': 9}\n",
    "print('Lucas has a grade of ', grades['Lucas']) ## I can use [] notation with the key name to access its value"
   ]
  },
  {
   "cell_type": "code",
   "execution_count": 22,
   "metadata": {},
   "outputs": [
    {
     "data": {
      "text/plain": [
       "'The student Lucas V. has grades: 10 and 9'"
      ]
     },
     "execution_count": 22,
     "metadata": {},
     "output_type": "execute_result"
    }
   ],
   "source": [
    "## Defining functions. Using formatted strings. Calling arguments/\n",
    "studentOne = {'Name': 'Lucas V.', 'GradeOne': 10, 'GradeTwo': 9, 'Avg': (10+9)/2}\n",
    "def getMarks(student):\n",
    "    return f\"The student {student['Name']} has grades: {student['GradeOne']} and {student['GradeTwo']}\"\n",
    "\n",
    "getMarks(studentOne)"
   ]
  },
  {
   "cell_type": "code",
   "execution_count": 26,
   "metadata": {},
   "outputs": [
    {
     "name": "stdout",
     "output_type": "stream",
     "text": [
      "elegible\n"
     ]
    }
   ],
   "source": [
    "## TERNARY OPERATORS\n",
    "studentOne = {'Name': 'Lucas V.', 'GradeOne': 10, 'GradeTwo': 9, 'Avg': (10+9)/2}\n",
    "message = 'elegible' if studentOne['Avg'] > 7 else 'not elegible'\n",
    "print(message)"
   ]
  },
  {
   "cell_type": "code",
   "execution_count": 31,
   "metadata": {},
   "outputs": [
    {
     "name": "stdout",
     "output_type": "stream",
     "text": [
      "(0, 0)\n",
      "(0, 1)\n",
      "(0, 2)\n",
      "(1, 0)\n",
      "(1, 1)\n",
      "(1, 2)\n",
      "(2, 0)\n",
      "(2, 1)\n",
      "(2, 2)\n",
      "(3, 0)\n",
      "(3, 1)\n",
      "(3, 2)\n"
     ]
    }
   ],
   "source": [
    "## NESTED LOOPS\n",
    "for x in range(4):\n",
    "    for y in range(3):\n",
    "        print(f\"({x}, {y})\")"
   ]
  },
  {
   "cell_type": "code",
   "execution_count": 11,
   "metadata": {},
   "outputs": [
    {
     "data": {
      "text/plain": [
       "1499998500000"
      ]
     },
     "execution_count": 11,
     "metadata": {},
     "output_type": "execute_result"
    }
   ],
   "source": [
    "## given a list, sum the elements of that list between 2 given indexes\n",
    "\n",
    "list1 = list(range(1, 2000000))\n",
    "indexes = list(range(0, len(list1) - 1))\n",
    "tosum = []\n",
    "\n",
    "def suma(startIndex, lastIndex):\n",
    "    tosum = list1[startIndex:lastIndex]\n",
    "    sumOfItems = 0\n",
    "    for item in tosum:\n",
    "        sumOfItems += item\n",
    "    return sumOfItems\n",
    "\n",
    "suma(1000000, 1999999)"
   ]
  },
  {
   "cell_type": "code",
   "execution_count": 42,
   "metadata": {},
   "outputs": [
    {
     "name": "stdout",
     "output_type": "stream",
     "text": [
      "['Java', 'Javascript']\n",
      "['Python', 'Java', 'Javascript']\n",
      "SQL\n",
      "['T', 'h', 'i', 's', ' ', 'i', 's', ' ', 'a', ' ', 's', 't', 'r', 'i', 'n', 'g']\n",
      "Python ['C++', 'SQL']\n",
      "0 Python\n",
      "1 Java\n",
      "2 Javascript\n",
      "3 C++\n",
      "4 SQL\n"
     ]
    }
   ],
   "source": [
    "## Accessing and subsetting lists.\n",
    "A = ['Python', 'Java', 'Javascript', 'C++', 'SQL']\n",
    "print(A[1:3])\n",
    "print(A[:3])\n",
    "print(A[-1])\n",
    "B = 'This is a string'\n",
    "Blist = list(B)\n",
    "print(Blist)\n",
    "\n",
    "## List unpacking\n",
    "language1, language2, language3, *others = A\n",
    "print(language1, others)\n",
    "\n",
    "## enumerate function to find index in lists\n",
    "for index, data in enumerate(A): ## enumarate returns an iterable object of tuples (index, value)\n",
    "    print(index, data)           ## unpack the iterable object returned into \"index\" and \"value\" in the for loop."
   ]
  },
  {
   "cell_type": "code",
   "execution_count": 31,
   "metadata": {},
   "outputs": [
    {
     "name": "stdout",
     "output_type": "stream",
     "text": [
      "True\n"
     ]
    }
   ],
   "source": [
    "## IN operataor\n",
    "print('Python' in A)"
   ]
  },
  {
   "cell_type": "code",
   "execution_count": 38,
   "metadata": {},
   "outputs": [
    {
     "data": {
      "text/plain": [
       "4"
      ]
     },
     "execution_count": 38,
     "metadata": {},
     "output_type": "execute_result"
    }
   ],
   "source": [
    "## given a number, return the count of its factors.\n",
    "def countOfFactors(num):\n",
    "    count = 1\n",
    "    for item in range(1, num):\n",
    "        if num%item == 0:\n",
    "            count += 1\n",
    "    \n",
    "    return count\n",
    "\n",
    "countOfFactors(30)\n",
    "\n",
    "## optimizing the algorithm. No need to iterate for all elements.\n",
    "def countOfFactorsOpt(num):\n",
    "    count = 0\n",
    "    for i in range(1, int(num ** 0.5)):\n",
    "        if i <= num:\n",
    "            if i <= num/i:\n",
    "                count += 2\n",
    "\n",
    "    return count\n",
    "\n",
    "## further optimization\n",
    "def countOfFactorsOpt2(num):\n",
    "    count = 0\n",
    "    for i in range(1, int(num ** 0.5) + 1):\n",
    "        if num % i == 0:\n",
    "            if num == i*i:\n",
    "                count += 1\n",
    "            else:\n",
    "                count += 2\n",
    "    return count\n",
    "countOfFactorsOpt2(10)"
   ]
  },
  {
   "cell_type": "code",
   "execution_count": 39,
   "metadata": {},
   "outputs": [
    {
     "data": {
      "text/plain": [
       "15.0"
      ]
     },
     "execution_count": 39,
     "metadata": {},
     "output_type": "execute_result"
    }
   ],
   "source": [
    "## Sum of N natural numbers. Much better way to do it than iterating over a list summing all\n",
    "def sumOfNaturalNumbers(N):\n",
    "    sum = (N*(N+1))/2\n",
    "    return sum\n",
    "\n",
    "sumOfNaturalNumbers(5)"
   ]
  },
  {
   "cell_type": "code",
   "execution_count": null,
   "metadata": {},
   "outputs": [],
   "source": [
    "## given N, find the number of steps needed to reach 1 by dividing N by 2"
   ]
  },
  {
   "cell_type": "code",
   "execution_count": null,
   "metadata": {},
   "outputs": [],
   "source": [
    "class Array(object):\n",
    "    def __init__(self, arraySize, arrayType = int):\n",
    "        self.sizeOfArray = len(list(map(arrayType, range(arraySize))))\n",
    "        self.arrayItems = [arrayType(0)]*arraySize"
   ]
  },
  {
   "cell_type": "code",
   "execution_count": 9,
   "metadata": {},
   "outputs": [],
   "source": [
    "## LINKED LIST\n",
    "class Node:\n",
    "    def __init__(self,data):\n",
    "        self.data=data\n",
    "        self.next=None\n",
    "\n",
    "class LinkedList:\n",
    "    def __init__(self):\n",
    "        self.head=None\n",
    "        self.tail=None\n",
    "    \n",
    "    def add_node(self,data):\n",
    "        new_node= Node(data)\n",
    "        \n",
    "        if self.head is None:\n",
    "            self.head=new_node\n",
    "            self.tail=new_node\n",
    "        else:\n",
    "            self.tail.next=new_node\n",
    "            self.tail=new_node\n",
    "\n",
    "a= LinkedList()\n",
    "a.add_node(5)\n",
    "a.add_node(6)\n",
    "a.add_node(7)"
   ]
  },
  {
   "cell_type": "code",
   "execution_count": null,
   "metadata": {},
   "outputs": [],
   "source": [
    "class Stack:\n",
    "    def __init__(self):\n",
    "        self.items=[]\n",
    "\n",
    "    def push(self, item):   #add element\n",
    "        self.items.append(item)  \n",
    "\n",
    "    def pop(self):# you can addd check if loop if stack is empty \"no poping\" else return\n",
    "        return self.items.pop()\n",
    "    \n",
    "    def is_empty(self):\n",
    "        return len(self.items)==0\n",
    "\n",
    "    def size(self):\n",
    "        return len(self.items)\n",
    "    \n",
    "my_stack=Stack()\n",
    "my_stack.push(1)\n",
    "my_stack.push(2)\n",
    "my_stack.push(3)"
   ]
  },
  {
   "cell_type": "code",
   "execution_count": 4,
   "metadata": {},
   "outputs": [
    {
     "name": "stdout",
     "output_type": "stream",
     "text": [
      "<bound method Queue.sizeOfQueue of <__main__.Queue object at 0x000002604E996990>>\n",
      "<bound method Queue.dequeue of <__main__.Queue object at 0x000002604E996990>>\n"
     ]
    }
   ],
   "source": [
    "## QUEUES\n",
    "class Queue:\n",
    "    def __init__(self) :\n",
    "        self.items= []\n",
    "    \n",
    "    def enqueue(self,items):\n",
    "        self.items.append(items)\n",
    "    \n",
    "    def dequeue(self,items):\n",
    "        if self.is_empty():\n",
    "            print(\"Queue is empty\")\n",
    "            return None\n",
    "        else:\n",
    "            return self.items.pop(0)   \n",
    "    \n",
    "    def is_empty(self):\n",
    "        return len(self.items) == 0\n",
    "\n",
    "\n",
    "    def sizeOfQueue(self):\n",
    "        return len(self.items)\n",
    "\n",
    "q =Queue()\n",
    "q.enqueue(3)\n",
    "q.enqueue(4)\n",
    "q.enqueue(5)\n",
    "print(q.sizeOfQueue)\n",
    "print(q.dequeue)"
   ]
  },
  {
   "cell_type": "code",
   "execution_count": 6,
   "metadata": {},
   "outputs": [
    {
     "name": "stdout",
     "output_type": "stream",
     "text": [
      "[('A', 'B'), ('A', 'C'), ('B', 'A'), ('B', 'C'), ('C', 'B'), ('C', 'A')]\n",
      "['A', 'B', 'C']\n"
     ]
    }
   ],
   "source": [
    "## GRAPHS\n",
    "class Graph:\n",
    "    def __init__(self):\n",
    "        self.graph={}\n",
    "    \n",
    "    def add_vertex(self,vertex):\n",
    "        if vertex not in self.graph:\n",
    "            self.graph[vertex]=[]    #dictionary key is list and value as a list   B :- []\n",
    "    \n",
    "    def add_edge(self,vertex1,vertex2):\n",
    "        if vertex1 not in self.graph:\n",
    "            self.add_vertex(vertex1)\n",
    "        \n",
    "        if vertex2 not in self.graph:\n",
    "            self.add_vertex(vertex2)\n",
    "        \n",
    "        self.graph[vertex1].append(vertex2)\n",
    "        self.graph[vertex2].append(vertex1)\n",
    "\n",
    "    def get_vertice(self):\n",
    "        return list(self.graph.keys())\n",
    "    \n",
    "    def getEdges(self):\n",
    "        edges=[]\n",
    "        for vertex in self.graph:\n",
    "            for neighbours in self.graph[vertex]:\n",
    "                edges.append((vertex,neighbours))\n",
    "        return edges\n",
    "\n",
    "g = Graph()\n",
    "g.add_vertex(\"A\")\n",
    "g.add_vertex(\"B\")\n",
    "g.add_vertex(\"C\")\n",
    "g.add_edge(\"A\",\"B\")\n",
    "g.add_edge(\"B\",\"C\")\n",
    "g.add_edge(\"C\",\"A\")\n",
    "\n",
    "print(g.getEdges())\n",
    "print(g.get_vertice())"
   ]
  },
  {
   "cell_type": "code",
   "execution_count": 13,
   "metadata": {},
   "outputs": [
    {
     "name": "stdout",
     "output_type": "stream",
     "text": [
      "27 None None\n"
     ]
    }
   ],
   "source": [
    "## BINARY TREE\n",
    "\n",
    "class Node:\n",
    "    def __init__(self, data):\n",
    "        self.data = data\n",
    "        self.rightNode = None\n",
    "        self.leftNode = None\n",
    "\n",
    "    def print_tree(self):\n",
    "        if self.leftNode:\n",
    "            self.leftNode.print_tree()\n",
    "        print(self.data)\n",
    "        if self.rightNode:\n",
    "            self.rightNode.print_tree()\n",
    "\n",
    "    def insert(self, data):\n",
    "        if data < self.data:\n",
    "            if self.leftNode:\n",
    "                self.leftNode.insert(data)\n",
    "            else:\n",
    "                self.leftNode = Node(data)\n",
    "                return\n",
    "        else:\n",
    "            if self.rightNode:\n",
    "                self.rightNode.insert(data)\n",
    "            else:\n",
    "                self.rightNode = Node(data)\n",
    "                return\n",
    "    \n",
    "n = Node(27)\n",
    "n.print_tree()"
   ]
  },
  {
   "cell_type": "code",
   "execution_count": null,
   "metadata": {},
   "outputs": [],
   "source": [
    "## BINARY TREE FINAL\n",
    "class Node:\n",
    "    def __init__(self,data):\n",
    "        self.data= data\n",
    "        self.leftChild=None\n",
    "        self.rightChild=None\n",
    "\n",
    "    def printTree(self):\n",
    "        if self.leftChild:\n",
    "            self.leftChild.printTree()\n",
    "        print(self.data)\n",
    "        if self.rightChild:\n",
    "            self.rightChild.printTree()\n",
    "    \n",
    "    def insert(self,data):\n",
    "\n",
    "        if data <self.data:\n",
    "            if self.leftChild:\n",
    "                self.leftChild.insert(data)\n",
    "            else:\n",
    "               self.leftChild = Node(data) \n",
    "               return\n",
    "        else:\n",
    "            if self.rightChild:\n",
    "                self.rightChild.insert(data)\n",
    "            else:\n",
    "                self.rightChild = Node(data)\n",
    "                return\n",
    "            \n",
    "    def search(self,value):\n",
    "        if value == self.data:\n",
    "            return str(value) +\"is found in BST\"\n",
    "        elif value < self.data:\n",
    "            if self.leftChild:\n",
    "                return self.leftChild.search(value)\n",
    "            else:\n",
    "                return str(value) +\"is not found in BST\"\n",
    "        else:\n",
    "            if self.rightChild:\n",
    "                return self.rightChild.search(value)\n",
    "            else:\n",
    "                return str(value)+\"is not found in BST\"\n",
    "\n",
    "root = Node(27)\n",
    "\n",
    "root.insert(14)\n",
    "root.insert(35)\n",
    "root.insert(31)\n",
    "root.insert(10)\n",
    "root.insert(19)\n",
    "root.printTree()\n",
    "root.search(10)"
   ]
  },
  {
   "cell_type": "code",
   "execution_count": 19,
   "metadata": {},
   "outputs": [],
   "source": [
    "## BUBBLE SORT ALGO\n",
    "def bubble_sort(arr):\n",
    "    n=len(arr)\n",
    "\n",
    "    for i in range(n):\n",
    "        for j in range(0,n-i-1):\n",
    "            if arr[j]>arr[j+1]:\n",
    "                arr[j],arr[j+1]=arr[j+1],arr[j]\n",
    "\n",
    "bubble_sort([4, 31, 27, 5, 10, 34])"
   ]
  },
  {
   "cell_type": "code",
   "execution_count": 20,
   "metadata": {},
   "outputs": [
    {
     "data": {
      "text/plain": [
       "[10, 14, 27, 35, 19, 19, 35, 14, 27, 35, 19, 19, 35, 27, 35, 19, 19, 35]"
      ]
     },
     "execution_count": 20,
     "metadata": {},
     "output_type": "execute_result"
    }
   ],
   "source": [
    "## ARRAY SORTING ALGO\n",
    "def mergesort(arr):\n",
    "    if len(arr) ==1:\n",
    "        return arr\n",
    "    \n",
    "    #Divide the array in 2 half\n",
    "    mid=len(arr) // 2\n",
    "    left_half=arr[:mid]\n",
    "    right_half=arr[mid:]\n",
    "\n",
    "    #Recursivel sort each half\n",
    "    left_sorted=mergesort(left_half)\n",
    "    right_sorted=mergesort(right_half)\n",
    "\n",
    "    #merge the halves\n",
    "    i=j=0\n",
    "    result=[]\n",
    "    while i < len(left_sorted) and j <len(right_sorted):\n",
    "        if left_sorted[i]<right_sorted[j]:\n",
    "            result.append(left_sorted[i])\n",
    "            i=i+1\n",
    "        else:\n",
    "            result.append(right_sorted[j])\n",
    "            j=j+1\n",
    "        result +=left_sorted[i:]\n",
    "        result+= right_sorted[j:]\n",
    "    return result\n",
    "mergesort([27,14,35,10,19])"
   ]
  },
  {
   "cell_type": "code",
   "execution_count": null,
   "metadata": {},
   "outputs": [],
   "source": [
    "## QUICK SORTING ALGO\n",
    "def quicksort(arr):\n",
    "    if len(arr < 2):\n",
    "        return arr\n",
    "    \n",
    "    #choose the pivot element\n",
    "    pivot = arr[0]\n",
    "\n",
    "    #Partition the array in two sub arrays\n",
    "    lesser =[i for i in arr[1:] if i<=pivot] \n",
    "    right =[i for i in arr[1:] if i > pivot]\n",
    "\n",
    "    return quicksort[lesser]+pivot+quicksort[right]\n",
    "\n",
    "quicksort([27,14,35,10,19])"
   ]
  },
  {
   "cell_type": "code",
   "execution_count": null,
   "metadata": {},
   "outputs": [],
   "source": [
    "## INSERTION SORTING\n",
    "def insertion_sort(arr):\n",
    "    for i in range(1,len(arr)):\n",
    "        key=arr[i]\n",
    "        j=i-1\n",
    "        while j>=0 and arr[j]>key:\n",
    "            arr[j+1]=arr[j]\n",
    "            j=j-1\n",
    "        arr[j+1]=key\n",
    "    return arr\n",
    "insertion_sort([27,14,35,10,19])"
   ]
  },
  {
   "cell_type": "code",
   "execution_count": null,
   "metadata": {},
   "outputs": [],
   "source": [
    "## Problem Description\n",
    "## You are given a constant array A.\n",
    "## You are required to return another array which is the reversed form of the input array.\n",
    "\n",
    "# SOLUTION 1\n",
    "## Fernando's \n",
    "def array(arr):\n",
    "    ## 0.1 sec\n",
    "    return arr[::-1]\n",
    "        \n",
    "array([1, 2, 3])\n",
    "\n",
    "## SOLUTION 2\n",
    "def array2(arr):\n",
    "    reversed = []\n",
    "    for i in range(len(arr)):\n",
    "        reversed.append(arr[len(arr) - 1 - i])\n",
    "\n",
    "    return reversed\n",
    "\n",
    "## solution 3\n",
    "## KORNEL's solution\n",
    "def reverse_array2(arr):\n",
    "    n = len(arr)\n",
    "    for i in range(n // 2):\n",
    "        arr[i], arr[n-i-1] = arr[n-i-1], arr[i]\n",
    "    return arr\n",
    "\n",
    "arr_A = [1, 2, 3, 4, 5]*10000\n",
    "\n",
    "(reverse_array2(arr_A))"
   ]
  },
  {
   "cell_type": "code",
   "execution_count": null,
   "metadata": {},
   "outputs": [],
   "source": [
    "# Problem Description\n",
    "# Given an integer array A of size N and an integer B, \n",
    "# you have to return the same array after rotating it B times towards the right.\n",
    "\n",
    "def array3(arr, n):\n",
    "    while n >= 1:\n",
    "        moveItem = arr.pop()\n",
    "        arr.insert(0, moveItem)\n",
    "        n -= 1\n",
    "    return arr\n",
    "\n",
    "\n",
    "## KORNEL's solution\n",
    "def rotate_array(arr, B):\n",
    "    n = len(arr)\n",
    "    shift = B % n\n",
    "    return arr[n-shift:] + arr[:n-shift]\n",
    "\n",
    "test = list(range(100000000))\n",
    "array3(test, 100)\n"
   ]
  },
  {
   "cell_type": "code",
   "execution_count": null,
   "metadata": {},
   "outputs": [],
   "source": [
    "## You are given an integer array A. You have to find the second largest element/value in the array \n",
    "## or report that no such element exists.\n",
    "\n",
    "## 2.1 sec\n",
    "def findSecondMax(arr):\n",
    "        ordered = []\n",
    "        for number in arr:\n",
    "                if ordered and number > ordered[0]:\n",
    "                        ordered.insert(0, number)\n",
    "                else: ordered.append(number)\n",
    "\n",
    "        return '''There's no second max''' if len(ordered) <= 1 or ordered[0] is ordered[1] else ordered[1]\n",
    "\n",
    "\n",
    "test2 = [-3, -2, -1, 0, 1, 2]\n",
    "findSecondMax(test2)"
   ]
  },
  {
   "cell_type": "code",
   "execution_count": 27,
   "metadata": {},
   "outputs": [
    {
     "name": "stdout",
     "output_type": "stream",
     "text": [
      "Times this book has been bought: 3\n",
      "3\n"
     ]
    }
   ],
   "source": [
    "## OOP Intro\n",
    "\n",
    "class Book:\n",
    "    # properties defined at classs level shared by all instance variables\n",
    "    BOOK_TYPES = (\"HARDCOVER\", \"PAPERBACK\", \"EBOOK\")\n",
    "    __COUNT = 0\n",
    "    BOOK_CLASSLEVEL_COUNT = 0\n",
    "\n",
    "    # __ properties are hidden from other classes\n",
    "    __bookList = None\n",
    "\n",
    "    def __init__(self, title, pages, author, price, bookType):\n",
    "        self.title= title\n",
    "        self.pages= pages   \n",
    "        self.author= author   \n",
    "        self.price= price\n",
    "        if(bookType not in Book.BOOK_TYPES):\n",
    "            raise ValueError(f'Book type {bookType} not supported')\n",
    "        else:\n",
    "            self.bookType= bookType\n",
    "        \n",
    "    # static methods do not recieve class or instance argument\n",
    "    @staticmethod\n",
    "    def incrementCount():\n",
    "        Book.__COUNT += 1\n",
    "        return Book.__COUNT\n",
    "    \n",
    "    ## class methods are used to manipulate class level variables.\n",
    "    ## class level variables are shared across all instances of a class. cls = Book\n",
    "    @classmethod\n",
    "    def getBookTypes(cls):\n",
    "        return cls.BOOK_TYPES\n",
    "    \n",
    "    @classmethod\n",
    "    def returnCount(cls):\n",
    "        return cls.__COUNT ## I can't call this method directly because it's private\n",
    "    \n",
    "    def setCount(self, count=0):\n",
    "        self.count = count + 1\n",
    "        return f'Times this book has been bought: {self.count}'\n",
    "    \n",
    "    def getCount(self):\n",
    "        return self.count\n",
    "\n",
    "    def getTitle(self):     ## getter method\n",
    "        return self.title   \n",
    "    \n",
    "    def getPrice(self):     ## method hasattr to check if a class has a certain attr\n",
    "        return self.price * (1 - self._percentage/100) if hasattr(self, '_percentage') else self.price\n",
    "    \n",
    "    def setTitle(self, title):  ## setter method\n",
    "        self.title= title\n",
    "        return f'New title updated: {self.title}'\n",
    "    \n",
    "    def setDiscount(self, percentage):\n",
    "        self._percentage= percentage    ## leading-underscore naming convention for instance variables that I don't want them to be initialized\n",
    "\n",
    "    def __str__(self):\n",
    "        return f\"title: {self.title}, pages: {self.pages}, author: {self.author}, price: {self.price}\"\n",
    "    \n",
    "    ## this method is same as __str__, but used for debugging. For production use __str__. Only str will parse if we call b2.\n",
    "    def __repr__(self):\n",
    "        return f\"The book {self.title}, has {self.pages} pages\"\n",
    "        \n",
    "    def __eq__(self, value):\n",
    "        if not isinstance(value, Book):\n",
    "            raise ValueError(\"Cant compare a non book object to a book object\")\n",
    "        else:\n",
    "            return (self.title == value.title and self.author == value.author)\n",
    "        \n",
    "\n",
    "b1 = Book('Learning Python', 50, 'Jinesh', 100, 'PAPERBACK')\n",
    "b2 = Book('OPP', 75, 'Jinesh', 120, 'EBOOK')\n",
    "b3 = Book('Programming 101', 150, 'Jinesh', 125, 'PAPERBACK')\n",
    "Book.incrementCount() ## calling a static method.\n",
    "Book.incrementCount() ## calling a static method.\n",
    "## print(Book._Book__COUNT) ## this returns COUNT\n",
    "## Book.returnCount() ## this one doesn't\n",
    "print(b1.setCount(2))\n",
    "print(b1.getCount())\n",
    "## print(Book.BOOK_TYPES)\n",
    "## b2._Book__secret ## with this sintax I can access private variables in a class.\n",
    "## print(\"title is: %s\\n pages: %s \\n author: %s \\n price: %d \\n \" %(b2.title, b2.pages, b2.author, b2.price)) ## with this sintax I can check data types.\n",
    "                                                                                                            ## if the user enters a variable with an incorrect\n",
    "                                                                                                            ## datatype it will show an error\n",
    "\n",
    "#  print(b2) ## __str__ magic method gets authomatically called. It casts int to strings as well.\n",
    "# print(str(b2)) ## using str() is the same as calling __str__\n",
    "# print(repr(b2)) ## using repr() method.\n",
    "\n",
    "## DELETING instances and objects\n",
    "# del b1.title\n",
    "# del b1\n",
    "\n",
    "class Car:\n",
    "    def __init__(self, title):\n",
    "        self.title= title\n",
    "    \n",
    "c1 = Car('Toyota')\n",
    "\n",
    "#print(isinstance(c1, Book)) ## method to check if an instance of a class is contained within another class.\n",
    "#print(b2 == b1)"
   ]
  },
  {
   "cell_type": "code",
   "execution_count": 35,
   "metadata": {},
   "outputs": [
    {
     "name": "stdout",
     "output_type": "stream",
     "text": [
      "TikTok\n",
      "Wiley\n",
      "BMW\n",
      "BMW\n",
      "TikTok\n",
      "{'name': 'Lucas', 'position': 'DA', 'id': 15613, 'COMPANY_NAME': 'TikTok'}\n",
      "['COMPANY_NAME']\n"
     ]
    }
   ],
   "source": [
    "####\n",
    "class Employee:\n",
    "    COMPANY_NAME = 'Wiley' ## this is a class variable and then a static variable. Because we don't init it or use self to refere to it. It's constant to all the class\n",
    "                           ## but it can be modified at instance level.\n",
    "\n",
    "    def __init__(self, name, position, id):\n",
    "        self.name = name\n",
    "        self.position = position\n",
    "        self.id = id\n",
    "\n",
    "e1 = Employee('Lucas', 'DA', 15613)\n",
    "e2 = Employee('Juan', 'DE', 44626)\n",
    "e1.COMPANY_NAME = 'TikTok'\n",
    "print(e1.COMPANY_NAME); print(e2.COMPANY_NAME) ## e1 now works for TikTok. We can modify class variables but only the instance will be modified. It will not propagate to e2.\n",
    "Employee.COMPANY_NAME = 'BMW' ## this way we can modify a class variable across the whole class to all instances of that class\n",
    "print(Employee.COMPANY_NAME); print(e2.COMPANY_NAME); print(e1.COMPANY_NAME) ## e2 now work for BMW, BUT e1 still works for Tiktok so it's not overridden.\n",
    "                                                                             ## this is why we should NEVER modify a class variable via an instance variable like we did with e1\n",
    "print(e1.__dict__) ## magic method to print all attr of an instance object\n",
    "my_methods = [method for method in dir(Employee) if method.startswith('_') is False] ## getting custom methods of a claass\n",
    "print(my_methods)\n"
   ]
  },
  {
   "cell_type": "code",
   "execution_count": 41,
   "metadata": {},
   "outputs": [
    {
     "name": "stdout",
     "output_type": "stream",
     "text": [
      "{'title': 'Germany Times', 'price': 1.99, 'period': 'Daily', 'publisher': 'News Editorial'}\n"
     ]
    }
   ],
   "source": [
    "#### INHERITANCE\n",
    "class Publication():\n",
    "    def __init__(self, title, price):\n",
    "        self.title = title\n",
    "        self.price = price\n",
    "\n",
    "class Periodical(Publication):\n",
    "    def __init__(self, title, price, period, publisher):\n",
    "        super().__init__(title, price)\n",
    "        self.period = period\n",
    "        self.publisher = publisher\n",
    "\n",
    "class Book(Publication):\n",
    "    def __init__(self, title, price, author, pages):\n",
    "        super().__init__(title, price)\n",
    "        self.author = author\n",
    "        self.pages = pages\n",
    "\n",
    "class Magazine(Periodical):\n",
    "    def __init__(self, title, price, period, publisher):\n",
    "        super().__init__(title, price, period, publisher)\n",
    "\n",
    "class Newspaper(Periodical):\n",
    "    def __init__(self, title, price, period, publisher):\n",
    "        super().__init__(title, price, period, publisher)\n",
    "\n",
    "## Publication is parent. Periodical and Book will inherit attr of Publication.  Magazine and Newspapaer will inherit attrs from Publication AND Periodical.\n",
    "## Publication => Periodical // Publication => Book // Publication => Periodical => Magazine, Newspaper\n",
    "\n",
    "b1 = Book('Learning to code', 8.55, 'Jinesh', 80)\n",
    "m1 = Magazine('Python weekly', 2.59, 'Weekly', 'Clever Editorial')\n",
    "n1 = Newspaper('Germany Times', 1.99, 'Daily', 'News Editorial')\n",
    "print(n1.__dict__)"
   ]
  },
  {
   "cell_type": "code",
   "execution_count": 79,
   "metadata": {},
   "outputs": [
    {
     "name": "stdout",
     "output_type": "stream",
     "text": [
      "A\n",
      "B\n",
      "C\n"
     ]
    }
   ],
   "source": [
    "## MULTIPLE INHERITANCE\n",
    "\n",
    "## I have to define super() in ALL PARENTS. Because if I pass more than 1 parent to a child, Python doesn't know where to point the inheritance.\n",
    "\n",
    "## example below uses method resolution order.  We don't need to pass super() to the parents because we pass it in the child class (class C)\n",
    "class A:\n",
    "    def __init__(self, nameA):\n",
    "        self.nameA = nameA\n",
    "\n",
    "class B:\n",
    "    def __init__(self, nameB):\n",
    "        self.nameB = nameB\n",
    "\n",
    "class C(A, B):\n",
    "    def __init__(self, nameA, nameB, nameC):\n",
    "        super().__init__(nameA) ## initializes A first\n",
    "        super(A, self).__init__(nameB) ## pass A, self in super() so Python knows that it has to start below A to point to init. Python only \"sees\" first parent (class A), so me need to hint it towards parent 2 (class B)\n",
    "        self.nameC = nameC\n",
    "        \n",
    "\n",
    "    def showProps(self):\n",
    "        print(self.nameA)\n",
    "        print(self.nameB)\n",
    "        print(self.nameC)\n",
    "        \n",
    "\n",
    "c = C('A', 'B', 'C')\n",
    "c.showProps()"
   ]
  },
  {
   "cell_type": "code",
   "execution_count": null,
   "metadata": {},
   "outputs": [],
   "source": [
    "## DATA CLASSES\n",
    "## data classes simplifies classes by avoiding having to use the __init__ method\n",
    "from dataclasses import dataclass, field\n",
    "import random\n",
    "\n",
    "def getRandomPrice(e):\n",
    "    ## I can write some code here to get a value from a SQL database and use it in a paramenter in Book()\n",
    "    return e + float(random.randrange(0, 5))\n",
    "\n",
    "@dataclass\n",
    "class Book():           \n",
    "    ## I can make a a class inmutable by adding Book(frozen = True)\n",
    "    title: str= 'No title' ## default values\n",
    "    author: str= 'No author'\n",
    "    year: str= 'No year'\n",
    "    pages:int = field(default_factory = lambda: getRandomPrice(5)) ## we can pass a function to the default_factory to generate a default value. VERY USEFUL\n",
    "    price:float = field(default= 0.0) ## right way to set default values as the other way is going to be depricated soon\n",
    "    ## post_init magic method allows me to declare new parameters after initialization with dataclasses. I don't have to initialized this value.\n",
    "    def __post_init__(self):\n",
    "        self.description = f\"Book {self.title} was written by {self.author} in {self.year}\"\n",
    "        return self.description\n",
    "\n",
    "b1 = Book('J')\n",
    "b2 = Book('Marking down', 'Robert Green', '2001', 1.49)\n",
    "\n",
    "print(b1.description); print(b1 == b2); print(isinstance(b1, Book)); print(b1.__dict__)\n"
   ]
  },
  {
   "cell_type": "code",
   "execution_count": 16,
   "metadata": {},
   "outputs": [
    {
     "data": {
      "text/plain": [
       "'{\"Square Area\": 16}'"
      ]
     },
     "execution_count": 16,
     "metadata": {},
     "output_type": "execute_result"
    }
   ],
   "source": [
    "#### Multiple inheritance (continuation)\n",
    "from abc import ABC, abstractmethod\n",
    "## ABC stands for Abstract Based Clased\n",
    "\n",
    "class GraphicShape(ABC):\n",
    "    def __init__(self):\n",
    "        super().__init__()\n",
    "\n",
    "    @abstractmethod\n",
    "    ## defines an function with an empty body. If you don't know the logic you can declare\n",
    "    ## a abstract method and the class inherits the method where I can write the logic\n",
    "\n",
    "    ## it's like a playground where we can define how to play. It's a template\n",
    "\n",
    "    ## this way, ALL circles will inherit the getArea. Just image we have a circleType function.\n",
    "    ## and each type have a different logic. So we implement these empty body function that all\n",
    "    ## circles will inherit and then can apply custom logic depending on the type of circle they are.\n",
    "    def getArea(self):\n",
    "        pass\n",
    "\n",
    "## defining a blueprint to convert areas to JSON objects\n",
    "class JSONify(ABC):\n",
    "    @abstractmethod\n",
    "    def toJSON(self):\n",
    "        pass\n",
    "    \n",
    "class Circle(GraphicShape):\n",
    "    def __init__(self, radius):\n",
    "        super().__init__()\n",
    "        self.radius = radius\n",
    "\n",
    "    ## setting custom logic of the abstract method.\n",
    "    def getArea(self):\n",
    "        return 3.14 * self.radius * self.radius\n",
    "    \n",
    "    ## converting a attr (area) to a JSON object\n",
    "    def toJSON(self):\n",
    "        return f\"{{\\\"Circle Area\\\": {str(self.getArea())}}}\"\n",
    "    \n",
    "class Square(GraphicShape):\n",
    "    def __init__(self, sideLenght):\n",
    "        super().__init__()\n",
    "        self.sideLength = sideLenght\n",
    "\n",
    "    ## setting custom logic of the abstract method.\n",
    "    def getArea(self):\n",
    "        return self.sideLength**2\n",
    "    \n",
    "    def toJSON(self):\n",
    "        return f\"{{\\\"Square Area\\\": {str(self.getArea())}}}\"\n",
    "\n",
    "c1 = Circle(2)\n",
    "c1.getArea()\n",
    "c1.toJSON()\n",
    "s1 = Square(4)\n",
    "s1.getArea()\n",
    "s1.toJSON()\n"
   ]
  },
  {
   "cell_type": "code",
   "execution_count": null,
   "metadata": {},
   "outputs": [],
   "source": [
    "## METHOD OVERRIDDING\n",
    "class Animal():\n",
    "    def speak(self):\n",
    "        print('language')\n",
    "\n",
    "class Dog(Animal):\n",
    "    def speak(self):\n",
    "        print('bark')\n",
    "\n",
    "d1 = Dog()\n",
    "d1.speak() ## dog barks. Parent method is getting overridden by the child's method.\n",
    "\n",
    "########### ANOTHER EXAMPLE\n",
    "class Bank:\n",
    "    def getRateOfInterest(self):\n",
    "        return 5\n",
    "class Barclays(Bank):\n",
    "    def getRateOfInterest(self):\n",
    "        return 7\n",
    "    \n",
    "class DB(Bank):\n",
    "    def getRateOfInterest(self):\n",
    "        return 8\n",
    "    \n",
    "class HSBC(Bank):\n",
    "    def getRateOfInterest(self):\n",
    "        return 6\n",
    "\n",
    "b1=Barclays()\n",
    "b2=DB()\n",
    "b3=HSBC()\n",
    "print(b1.getRateOfInterest())\n",
    "print(b2.getRateOfInterest())\n",
    "print(b3.getRateOfInterest())"
   ]
  },
  {
   "cell_type": "code",
   "execution_count": 6,
   "metadata": {},
   "outputs": [
    {
     "name": "stdout",
     "output_type": "stream",
     "text": [
      "[(1, 'The beginning')]\n",
      "Joe Adams\n",
      "Joe Adams\n"
     ]
    }
   ],
   "source": [
    "from author import Author\n",
    "## COMPOSITION\n",
    "\n",
    "## we initialize author with None by default, and from a separate file, we import the Author class to use it.\n",
    "## we apply \"normalization\" to the book structure\n",
    "class Book:\n",
    "    def __init__(self, name, price, pages, author=None):\n",
    "        self.name = name\n",
    "        self.price = price\n",
    "        self.pages = pages\n",
    "        self.author = author\n",
    "        self.chapters = []\n",
    "    \n",
    "    def addChapter(self, chapterNo, chapterName):\n",
    "        self.chapters.append((chapterNo, chapterName))\n",
    "\n",
    "a1 = Author('Joe', 'Adams')\n",
    "b1 = Book('Dark', 49, 523, a1) ## we pass the instance of Author (a1) as argument for attr \"author\"\n",
    "b2 = Book('Light', 27, 325, a1)\n",
    "b1.addChapter(1, 'The beginning')\n",
    "print(b1.chapters); print(b1.author); print(b2.author)\n"
   ]
  },
  {
   "cell_type": "code",
   "execution_count": null,
   "metadata": {},
   "outputs": [],
   "source": [
    "class Book:\n",
    "    def __init__(self, title, author, pages, price):\n",
    "        self.title = title\n",
    "        self.author = author\n",
    "        self.pages = pages\n",
    "        self.price = price\n",
    "        self.discount = 0.1\n",
    "\n",
    "    def __str__(self):\n",
    "        return f\"{self.title} by {self.author}, costs {self.price}\"\n",
    "\n",
    "    def __getattribute__(self, name: str):\n",
    "        ## gets triggered automatically\n",
    "        if name == \"price\":\n",
    "            p = super().__getattribute__(\n",
    "                \"price\"\n",
    "            )  ## we work using super().super().__getattribute__() so Python would know the complete hirarchy of variables.\n",
    "            d = super().__getattribute__(\n",
    "                \"discount\"\n",
    "            )  ## super() consolidates all variables of all hirarchies. Otherwise, python will incurr in recursivity\n",
    "            return p * (1 - self.discount)\n",
    "        return super().__getattribute__(name)\n",
    "\n",
    "    def __setattr__(self, name: str, value: str):\n",
    "        ## this method gets called authomatically everytime we set an attribute\n",
    "        if name == \"price\":\n",
    "            if type(value) is not float:\n",
    "                raise ValueError(\"Price cannot be a string. It must be float type.\")\n",
    "        return super().__setattr__(name, value)\n",
    "\n",
    "    def __getattr__(self, name):\n",
    "        return name + \"is not a variable in book class.\"\n",
    "\n",
    "\n",
    "b1 = Book(\"ware and peace\", \"leo tolsty\", 32332, 39.65)\n",
    "b2 = Book(\"the catcher in rye\", \"JD\", 322, 29.65)\n",
    "\n",
    "b1.price = 38.65\n",
    "print(b1)\n",
    "\n",
    "b2.price = float(40)\n",
    "print(b2)\n",
    "\n",
    "print(b1.randomprop)\n"
   ]
  },
  {
   "cell_type": "code",
   "execution_count": 26,
   "metadata": {},
   "outputs": [
    {
     "name": "stdout",
     "output_type": "stream",
     "text": [
      "20.0\n",
      "25.0\n",
      "War\n",
      "{'title': 'War', 'author': 'F. Tolstoy', 'pages': 563, 'price': 25.0, 'discount': 0.1}\n"
     ]
    }
   ],
   "source": [
    "#### __call__ magic method for calling variable instances as functions.\n",
    "## this allow me to change variable attributes by calling the instance as a function\n",
    "\n",
    "class Book:\n",
    "    def __init__(self, title, author, pages, price):\n",
    "        self.title = title\n",
    "        self.author = author\n",
    "        self.pages = pages\n",
    "        self.price = price\n",
    "        self.discount = 0.1\n",
    "\n",
    "    def __str__(self):\n",
    "        return f\"{self.title} by {self.author}, costs {self.price}\"\n",
    "    \n",
    "    def __call__(self, title, author, pages, price):\n",
    "        self.title = title\n",
    "        self.author = author\n",
    "        self.pages = pages\n",
    "        self.price = price\n",
    "\n",
    "b1 = Book('War and Peace', 'Tolstoy', 563, 20.0)\n",
    "print(b1.price)\n",
    "## now we can modify any attributes of the instances b1 by calling it and passing the new arguments.\n",
    "## useful to change all properties\n",
    "b1('War and Peace', 'F. Tolstoy', 563, 25.0)\n",
    "print(b1.price)\n",
    "\n",
    "## if I want to modify only 1 property, call setAttr method\n",
    "b1.__setattr__('title', 'War')\n",
    "print(b1.title)\n",
    "print(b1.__dict__)"
   ]
  },
  {
   "cell_type": "code",
   "execution_count": null,
   "metadata": {},
   "outputs": [],
   "source": [
    "## COMPARING values between instances\n",
    "class Book:\n",
    "    def __init__(self, title, author, pages, price):\n",
    "        self.title = title\n",
    "        self.author = author\n",
    "        self.pages = pages\n",
    "        self.price = price\n",
    "        self.discount = 0.1\n",
    "\n",
    "    ##  ge = greater-equal than\n",
    "    def __ge__(self, value):\n",
    "        if not isinstance(value, Book):\n",
    "            raise ValueError('Cannot compare value from different classes')\n",
    "        return self.price >= value.price\n",
    "\n",
    "    ## lower-than\n",
    "    def __lt__(self, value):\n",
    "        if not isinstance(value, Book):\n",
    "            raise ValueError('Cannot compare value from different classes')\n",
    "        return self.price < value.price\n",
    "    \n",
    "b1 = Book('War and peace', 'Tolstoy', 200, 35.5)\n",
    "b2 = Book('Light and Shadow', 'Joe Adams', 225, 27.0)\n",
    "b3 = Book('Pride and prejugce', 'Elena', 500, 28.50)\n",
    "b4 = Book('Silence in the mountain', 'JPL', 250, 17.2)\n",
    "\n",
    "#here first parameter becomes self and and second parameter becomess value in gt and lt functio n\n",
    "## the comparison would be b2(self).price >= b1(value).price\n",
    "print( b2 >=b1)\n",
    "print(b2 < b1)\n",
    "print(b3 >=b2)\n",
    "\n",
    "books = [b1, b2, b3, b4]\n",
    "## to apply sort() to this instances variables I need a method like gt or lt otherwise it won't work\n",
    "books.sort()\n",
    "print([book.title for book in books])"
   ]
  },
  {
   "cell_type": "code",
   "execution_count": null,
   "metadata": {},
   "outputs": [],
   "source": [
    "## DECORATOR PATTERNS\n",
    "# i am passing a parameter which can be a variable or function but these time its a function\n",
    "\n",
    "# what is the use :- \n",
    "# deposit money or withdraw money you can have a function call audit\n",
    "\n",
    "import datetime\n",
    "\n",
    "def my_decorator(inner):\n",
    "    def inner_decorator(num_copy):\n",
    "        print(\"this happend before\",datetime.datetime.utcnow())     # you add the balance\n",
    "        inner(int(num_copy) +1)    # when you call my function the my_decorated function get executed   # here you do the audit function call\n",
    "        print(\"this happened after\",datetime.datetime.utcnow())   # ensure database is updated\n",
    "        print(\"This happend at end!!!!\")  # drop a message on console\n",
    "    return inner_decorator\n",
    "\n",
    "@my_decorator\n",
    "def decorated(number):\n",
    "    print(\"This happened :\"+str(number))   # if you dont specify str print would not work as it would say int and string cannot be combined\n",
    "\n",
    "\n",
    "if __name__ == \"__main__\":\n",
    "    decorated(5)"
   ]
  },
  {
   "cell_type": "code",
   "execution_count": null,
   "metadata": {},
   "outputs": [],
   "source": [
    "from __future__ import print_function\n",
    "## HANDELING ERRORS\n",
    "try:\n",
    "    ## failure condition code can be written here\n",
    "    print(1/0)\n",
    "except Exception as ex:\n",
    "    ## this will only execute if there's an error in the try block\n",
    "    print('error division by zero', ex)\n",
    "finally:\n",
    "    ## finally gets always executed\n",
    "    print('print this despite the error')\n",
    "\n",
    "##############################################################\n",
    "## writing custom decorators\n",
    "\n",
    "def handle_addsub_exception(inner):\n",
    "    def inner(*args, **kwargs): ## kwargs is a dict with key/value pairs\n",
    "        operation = kwargs['operation'] ## accessing property of operation\n",
    "        if operation == 'sum':\n",
    "            return sum(args)\n",
    "        elif operation == 'subs':\n",
    "            result = 0\n",
    "            for i in args:\n",
    "                result =- i\n",
    "            return result\n",
    "        else: return 'operation selected not supported'\n",
    "    return inner\n",
    "\n",
    "\n",
    "@handle_addsub_exception\n",
    "def operation(*args, **kwargs):\n",
    "    print(operation(*args, **kwargs))\n",
    "    \n",
    "\n",
    "operation(8, 0, 1, 2, 3, 5, operation = 'mul')"
   ]
  },
  {
   "cell_type": "code",
   "execution_count": null,
   "metadata": {},
   "outputs": [],
   "source": [
    "## OPERATION OVERLOADING\n",
    "class Point:\n",
    "    def __init__(self, x=0, y=0):\n",
    "        self.x = x\n",
    "        self.y = y\n",
    "\n",
    "    def __str__(self):\n",
    "        return \"({0},{1})\".format(self.x, self.y)\n",
    "    #these function is created by me\n",
    "\n",
    "    def __add__(self, other):\n",
    "        x = self.x + other.x\n",
    "        y = self.y + other.y\n",
    "        return Point(x, y)\n",
    "    def __sub__(self,other):\n",
    "        x = self.x - other.x\n",
    "        y = self.y - other.y\n",
    "        return Point(x, y)\n",
    "    \n",
    "    def multiply(self,other):\n",
    "        x= self.x * other.x\n",
    "        y = self.y * other.y \n",
    "        return Point(x,y)\n",
    "\n",
    "p1 = Point(1, 2)\n",
    "p2 = Point(2, 3)\n",
    "\n",
    "print(p1-p2)    # \n",
    "\n",
    "p1.multiply(p2)"
   ]
  },
  {
   "cell_type": "code",
   "execution_count": 1,
   "metadata": {},
   "outputs": [
    {
     "name": "stdout",
     "output_type": "stream",
     "text": [
      "from exception you are wrong\n",
      "hi how are ayoposadjklasndksanknd\n",
      "I am god\n"
     ]
    }
   ],
   "source": [
    "#### ERROR HANDLING\n",
    "try :  \n",
    "    #print(1/0)   # failuere codnition code can be written here\n",
    "    raise RuntimeError(\"you are wrong\")\n",
    "except ZeroDivisionError as error:   # only when you get an error\n",
    "    print(\"an error occured\",error)\n",
    "except Exception as ex:   # only when you get an error\n",
    "    print(\"from exception\",ex)\n",
    "finally:  # these is always getting executed\n",
    "    print(\"hi how are ayoposadjklasndksanknd\")\n",
    "    print(\"I am god\")"
   ]
  },
  {
   "cell_type": "code",
   "execution_count": 11,
   "metadata": {},
   "outputs": [
    {
     "name": "stdout",
     "output_type": "stream",
     "text": [
      "hi\n"
     ]
    },
    {
     "ename": "CustomError",
     "evalue": "This is a custom error",
     "output_type": "error",
     "traceback": [
      "\u001b[1;31m---------------------------------------------------------------------------\u001b[0m",
      "\u001b[1;31mCustomError\u001b[0m                               Traceback (most recent call last)",
      "Cell \u001b[1;32mIn[11], line 6\u001b[0m\n\u001b[0;32m      3\u001b[0m     \u001b[39mpass\u001b[39;00m\n\u001b[0;32m      5\u001b[0m \u001b[39mprint\u001b[39m(\u001b[39m'\u001b[39m\u001b[39mhi\u001b[39m\u001b[39m'\u001b[39m)  \n\u001b[1;32m----> 6\u001b[0m \u001b[39mraise\u001b[39;00m CustomError(\u001b[39m'\u001b[39m\u001b[39mThis is a custom error\u001b[39m\u001b[39m'\u001b[39m)\n",
      "\u001b[1;31mCustomError\u001b[0m: This is a custom error"
     ]
    }
   ],
   "source": [
    "###### CUSTOM ERRORS\n",
    "class CustomError(Exception):\n",
    "    pass\n",
    "\n",
    "print('hi')  \n",
    "raise CustomError('This is a custom error')"
   ]
  },
  {
   "cell_type": "code",
   "execution_count": 15,
   "metadata": {},
   "outputs": [
    {
     "name": "stdout",
     "output_type": "stream",
     "text": [
      "hola\n",
      "how are you\n"
     ]
    },
    {
     "ename": "SystemExit",
     "evalue": "",
     "output_type": "error",
     "traceback": [
      "An exception has occurred, use %tb to see the full traceback.\n",
      "\u001b[1;31mSystemExit\u001b[0m\n"
     ]
    }
   ],
   "source": [
    "###################################################\n",
    "import sys\n",
    "print('hola')\n",
    "print('how are you')\n",
    "raise SystemExit ## gracefully exits the program\n",
    "print('this will not be printed')"
   ]
  },
  {
   "cell_type": "code",
   "execution_count": 17,
   "metadata": {},
   "outputs": [
    {
     "name": "stdout",
     "output_type": "stream",
     "text": [
      "ehllo\n"
     ]
    },
    {
     "ename": "CustomException",
     "evalue": "Error ID 17362178 : Ths is a custom exception message for class C339",
     "output_type": "error",
     "traceback": [
      "\u001b[1;31m---------------------------------------------------------------------------\u001b[0m",
      "\u001b[1;31mCustomException\u001b[0m                           Traceback (most recent call last)",
      "Cell \u001b[1;32mIn[17], line 10\u001b[0m\n\u001b[0;32m      7\u001b[0m         \u001b[39mreturn\u001b[39;00m \u001b[39mf\u001b[39m\u001b[39m\"\u001b[39m\u001b[39mError ID \u001b[39m\u001b[39m{\u001b[39;00m\u001b[39mself\u001b[39m\u001b[39m.\u001b[39mcode\u001b[39m}\u001b[39;00m\u001b[39m : \u001b[39m\u001b[39m{\u001b[39;00m\u001b[39mself\u001b[39m\u001b[39m.\u001b[39mmessage\u001b[39m}\u001b[39;00m\u001b[39m\"\u001b[39m\n\u001b[0;32m      9\u001b[0m \u001b[39mprint\u001b[39m(\u001b[39m\"\u001b[39m\u001b[39mehllo\u001b[39m\u001b[39m\"\u001b[39m)\n\u001b[1;32m---> 10\u001b[0m \u001b[39mraise\u001b[39;00m CustomException(\u001b[39m\"\u001b[39m\u001b[39mThs is a custom exception message for class C339\u001b[39m\u001b[39m\"\u001b[39m, \u001b[39m17362178\u001b[39m)\n",
      "\u001b[1;31mCustomException\u001b[0m: Error ID 17362178 : Ths is a custom exception message for class C339"
     ]
    }
   ],
   "source": [
    "## IDENTIFY EACH ERROR WITH AN ID\n",
    "class CustomException(Exception): ## Exception is the main object (common base class) for non-exit exceptions\n",
    "    def __init__(self, message,code):\n",
    "        self.message=message\n",
    "        self.code=code\n",
    "    def __str__(self) -> str:\n",
    "        return f\"Error ID {self.code} : {self.message}\"\n",
    "\n",
    "print(\"ehllo\")\n",
    "raise CustomException(\"Ths is a custom exception message for class C339\", 17362178)"
   ]
  },
  {
   "cell_type": "code",
   "execution_count": 18,
   "metadata": {},
   "outputs": [
    {
     "ename": "CustomError",
     "evalue": "THis is a custom error",
     "output_type": "error",
     "traceback": [
      "\u001b[1;31m---------------------------------------------------------------------------\u001b[0m",
      "\u001b[1;31mCustomError\u001b[0m                               Traceback (most recent call last)",
      "Cell \u001b[1;32mIn[18], line 4\u001b[0m\n\u001b[0;32m      1\u001b[0m \u001b[39mclass\u001b[39;00m \u001b[39mCustomException\u001b[39;00m(\u001b[39mException\u001b[39;00m):\n\u001b[0;32m      2\u001b[0m     \u001b[39mpass\u001b[39;00m\n\u001b[1;32m----> 4\u001b[0m \u001b[39mraise\u001b[39;00m CustomError(\u001b[39m'\u001b[39m\u001b[39mTHis is a custom error\u001b[39m\u001b[39m'\u001b[39m)\n",
      "\u001b[1;31mCustomError\u001b[0m: THis is a custom error"
     ]
    }
   ],
   "source": [
    "class CustomException(Exception):\n",
    "    pass\n",
    "\n",
    "raise CustomError('THis is a custom error')"
   ]
  },
  {
   "cell_type": "code",
   "execution_count": null,
   "metadata": {},
   "outputs": [],
   "source": []
  }
 ],
 "metadata": {
  "kernelspec": {
   "display_name": "Python 3",
   "language": "python",
   "name": "python3"
  },
  "language_info": {
   "codemirror_mode": {
    "name": "ipython",
    "version": 3
   },
   "file_extension": ".py",
   "mimetype": "text/x-python",
   "name": "python",
   "nbconvert_exporter": "python",
   "pygments_lexer": "ipython3",
   "version": "3.11.2"
  },
  "orig_nbformat": 4,
  "vscode": {
   "interpreter": {
    "hash": "fd3629c13de49f7b568d9d305de9548cdf7f0709fb6e221ff99f6cdcbdc39995"
   }
  }
 },
 "nbformat": 4,
 "nbformat_minor": 2
}
