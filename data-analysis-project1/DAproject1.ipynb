{
 "cells": [
  {
   "cell_type": "code",
   "execution_count": null,
   "metadata": {},
   "outputs": [],
   "source": [
    "!pip install azure-storage-blob"
   ]
  },
  {
   "cell_type": "code",
   "execution_count": 18,
   "metadata": {},
   "outputs": [],
   "source": [
    "from azure.storage.blob import BlobServiceClient\n",
    "\n",
    "connection_string = \"DefaultEndpointsProtocol=https;AccountName=storagelucasv;AccountKey=nfshKMTaX1gRybJy+o4SYnrrqJJYAm5ooBwUKaZi7cm0V8PG4w7pQrn40O2qlRGhbJiH2iahS6sm+AStAJFMTA==;EndpointSuffix=core.windows.net\"\n",
    "container_name='testcontainer'\n",
    "\n",
    "blob_service_client= BlobServiceClient.from_connection_string(connection_string)\n",
    "blob_client_orders = blob_service_client.get_blob_client(container_name,'Samarra/orders.csv')\n",
    "blob_client_order_events = blob_service_client.get_blob_client(container_name,'Samarra/order_events.csv')\n",
    "blob_client_payments = blob_service_client.get_blob_client(container_name,'Samarra/payments.csv')\n",
    "\n",
    "blob_data_orders = blob_client_orders.download_blob()\n",
    "blob_data_order_events = blob_client_order_events.download_blob()\n",
    "blob_data_payments = blob_client_payments.download_blob()\n",
    "\n",
    "orders_data = blob_data_orders.content_as_text()\n",
    "order_events_data = blob_data_order_events.content_as_text()\n",
    "payments_data = blob_data_payments.content_as_text()"
   ]
  },
  {
   "cell_type": "code",
   "execution_count": 19,
   "metadata": {},
   "outputs": [],
   "source": [
    "import io\n",
    "import pandas as pd\n",
    "## importing datasets\n",
    "orders = pd.read_csv(io.StringIO(orders_data), index_col='id_order', parse_dates=['created_at'])\n",
    "order_events = pd.read_csv(io.StringIO(order_events_data), index_col='event_id', parse_dates=['created_at'])\n",
    "payments = pd.read_csv(io.StringIO(payments_data), index_col='id_payment', parse_dates=['due_date', 'paid_date', 'last_late_fee_recorded_at', 'created_at', 'updated_at'])"
   ]
  },
  {
   "cell_type": "code",
   "execution_count": 20,
   "metadata": {},
   "outputs": [],
   "source": [
    "## 1) IMPORTING MODULES\n",
    "import seaborn as sb\n",
    "import matplotlib.pyplot as plt\n",
    "import numpy as np"
   ]
  },
  {
   "cell_type": "code",
   "execution_count": null,
   "metadata": {},
   "outputs": [],
   "source": [
    "## 2) EXPLORING THE DATASETS AND IMPROTING DATASETS BASED ON MY FINDINGS"
   ]
  },
  {
   "cell_type": "code",
   "execution_count": null,
   "metadata": {},
   "outputs": [],
   "source": [
    "# A) ORDERS\n",
    "print(f\"ORDERS -> SHAPE: {orders.shape}, COLUMNS: {orders.columns}\")"
   ]
  },
  {
   "cell_type": "code",
   "execution_count": null,
   "metadata": {},
   "outputs": [],
   "source": [
    "# B) ORDER_EVENTS\n",
    "## dropping \"id\" column as it's redundant\n",
    "order_events.drop('id', axis=1, inplace=True)\n",
    "## exploring the result\n",
    "print(f\"ORDER_EVENTS -> SHAPE: {order_events.shape}, COLUMNS: {order_events.columns}\")"
   ]
  },
  {
   "cell_type": "code",
   "execution_count": null,
   "metadata": {},
   "outputs": [],
   "source": [
    "# C) PAYMENTS\n",
    "print(f\"PAYMENTS -> SHAPE: {payments.shape}, COLUMNS: {payments.columns}\")"
   ]
  },
  {
   "cell_type": "code",
   "execution_count": null,
   "metadata": {},
   "outputs": [],
   "source": [
    "## 3) DATA CLEANING"
   ]
  },
  {
   "cell_type": "code",
   "execution_count": null,
   "metadata": {},
   "outputs": [],
   "source": [
    "## ORDER_EVENTS DATAFRAME NEEDS FURTHER MANIPULATION. FIRST EXPLORING THE COLUMNS I NEED TO CHANGE AND THEN APPLYING THE NECESSARY CHANGES TO THEM.\n",
    "\n",
    "## I'm only interested in the last part of the string, where the reason is displayed.\n",
    "print(order_events['event_name'][0])"
   ]
  },
  {
   "cell_type": "code",
   "execution_count": null,
   "metadata": {},
   "outputs": [],
   "source": [
    "## cleaning event_name column to display only Declined or Authorized\n",
    "order_events['event_name'] = order_events['event_name'].apply(lambda x: x.split('OrderWas')[-1])\n",
    "order_events['event_name']"
   ]
  },
  {
   "cell_type": "code",
   "execution_count": null,
   "metadata": {},
   "outputs": [],
   "source": [
    "## 4) Calculating 2 Key Metrics: Delincuency Rate and Recovery Rate\n",
    "## First I need to join the orders table with the payments.\n",
    "orders_payments = payments.merge(orders, left_on='order_id', right_on='id_order', how='left')\n"
   ]
  },
  {
   "cell_type": "code",
   "execution_count": null,
   "metadata": {},
   "outputs": [],
   "source": [
    "## Delincuency Rate = (number of paid late payments + number of unpaid late payments)/number of total payments\n",
    "\n",
    "## number of paid late payments\n",
    "paid_late_payments = len(orders_payments[(orders_payments['status_x'] == 'paid') & (orders_payments['payment_type_y'] == 'PAY_BY_LATER')])\n",
    "\n",
    "## number of unpaid late payments\n",
    "unpaid_late_payments = len(orders_payments[(orders_payments['status_x'] == 'pending') & (orders_payments['payment_type_y'] == 'PAY_BY_LATER')])\n",
    "\n",
    "## number of total payments\n",
    "total_payments = len(orders_payments)"
   ]
  },
  {
   "cell_type": "code",
   "execution_count": null,
   "metadata": {},
   "outputs": [],
   "source": [
    "# DELINCUNECY RATE\n",
    "delincuency_rate = (paid_late_payments + unpaid_late_payments)/total_payments\n",
    "delincuency_rate"
   ]
  },
  {
   "cell_type": "code",
   "execution_count": null,
   "metadata": {},
   "outputs": [],
   "source": [
    "## Recovery Rate = # of paid late payments / (# paid late payments + # of unpaid late payments)\n",
    "recovery_rate = paid_late_payments/(paid_late_payments + unpaid_late_payments)\n",
    "recovery_rate"
   ]
  },
  {
   "cell_type": "code",
   "execution_count": null,
   "metadata": {},
   "outputs": [],
   "source": [
    "# 5)\n",
    "# We observe a large volume of expired orders, but they are multiple attempts of the same order. \n",
    "# Find the number of unique orders that were unsuccessful due to expiry, and were not eventually successful.\n",
    "\n",
    "# Creates two tables: one for expired orders and another one for non-expired orders. Getting only the customer_id as each order is unique regardless of the multiple attempts\n",
    "not_expired_orders = orders.query('status != \"expired\"')['customer_id']\n",
    "expired_orders = orders.query('status == \"expired\"')['customer_id']\n",
    "\n",
    "## I need customers that are in the expired table but are not in the not_expired table\n",
    "num_of_unique_ord =  len(expired_orders) - len(expired_orders[expired_orders.isin(not_expired_orders)])\n",
    "num_of_unique_ord"
   ]
  },
  {
   "cell_type": "code",
   "execution_count": null,
   "metadata": {},
   "outputs": [],
   "source": [
    "# 6)\n",
    "## There are orders where the 3rd installment was paid before the 2nd, \n",
    "# causing the affected customers to be charged late fees even though they technically made a payment to Samarra before the due date of the 2nd installment. \n",
    "# Identify these orders. Down payments should not be included in this calculation.\n",
    "\n",
    "## filters the data with the necessary conditions and stores it in a new variable\n",
    "orders_with_faulty_fee = payments.query('payment_type == 2 & late_fee_amount != 0 & late_fee_amount != 0 & paid_date < due_date')['order_id']\n",
    "orders_with_faulty_fee"
   ]
  },
  {
   "cell_type": "code",
   "execution_count": null,
   "metadata": {},
   "outputs": [],
   "source": [
    "## 7) What are the top reasons for orders being declined?\n",
    "\n",
    "# As we may need data from the payload, I created a separate column with declined reason and appended it to the DataFrame\n",
    "order_events['declined_reason'] = [reason.split('\": \"')[-1].split('\"')[0] for reason in order_events['payload']]\n",
    "\n",
    "## making a value count for each declined reason\n",
    "top_declined_reasons = order_events['declined_reason'].value_counts().head(6)\n",
    "top_declined_reasons"
   ]
  },
  {
   "cell_type": "code",
   "execution_count": null,
   "metadata": {},
   "outputs": [],
   "source": [
    "#### DATA VISUALIZATION"
   ]
  },
  {
   "cell_type": "code",
   "execution_count": 21,
   "metadata": {},
   "outputs": [
    {
     "data": {
      "text/plain": [
       "<BarContainer object of 16 artists>"
      ]
     },
     "execution_count": 21,
     "metadata": {},
     "output_type": "execute_result"
    },
    {
     "data": {
      "image/png": "[encoded data removed]",
      "text/plain": [
       "<Figure size 640x480 with 1 Axes>"
      ]
     },
     "metadata": {},
     "output_type": "display_data"
    }
   ],
   "source": [
    "# TOP SALES BY CATEGORY\n",
    "\n",
    "# create the two measures needed to plot.\n",
    "total_sum_by_category = orders.groupby(['merchant_category'])['paid_amount'].sum()\n",
    "categories = orders['merchant_category'].unique()\n",
    "\n",
    "# creates an horizontal bar chart\n",
    "plt.barh(categories, total_sum_by_category)\n"
   ]
  },
  {
   "cell_type": "code",
   "execution_count": 22,
   "metadata": {},
   "outputs": [
    {
     "data": {
      "text/plain": [
       "(array([18597., 18611., 18628., 18642., 18659., 18673., 18687., 18701.,\n",
       "        18718.]),\n",
       " [Text(18597.0, 0, '2020-12-01'),\n",
       "  Text(18611.0, 0, '2020-12-15'),\n",
       "  Text(18628.0, 0, '2021-01-01'),\n",
       "  Text(18642.0, 0, '2021-01-15'),\n",
       "  Text(18659.0, 0, '2021-02-01'),\n",
       "  Text(18673.0, 0, '2021-02-15'),\n",
       "  Text(18687.0, 0, '2021-03-01'),\n",
       "  Text(18701.0, 0, '2021-03-15'),\n",
       "  Text(18718.0, 0, '2021-04-01')])"
      ]
     },
     "execution_count": 22,
     "metadata": {},
     "output_type": "execute_result"
    },
    {
     "data": {
      "image/png": "[encoded data removed]",
      "text/plain": [
       "<Figure size 640x480 with 1 Axes>"
      ]
     },
     "metadata": {},
     "output_type": "display_data"
    }
   ],
   "source": [
    "## TIMESERIES FOR ORDERS\n",
    "\n",
    "# sets a index to a timeseries column to use resample()\n",
    "orders.set_index(orders['created_at'], inplace=True)\n",
    "\n",
    "## creates a variable with the total paid amount groupped by day\n",
    "total_by_month = orders['paid_amount'].resample(\"D\").sum()\n",
    "\n",
    "## plots\n",
    "plt.plot(total_by_month)\n",
    "plt.xticks(rotation=60)\n"
   ]
  },
  {
   "cell_type": "code",
   "execution_count": null,
   "metadata": {},
   "outputs": [],
   "source": [
    "!pip install pyodbc\n"
   ]
  },
  {
   "cell_type": "code",
   "execution_count": 10,
   "metadata": {},
   "outputs": [
    {
     "name": "stderr",
     "output_type": "stream",
     "text": [
      "C:\\Users\\Lucas\\AppData\\Local\\Temp\\ipykernel_6208\\2021010201.py:31: UserWarning: pandas only supports SQLAlchemy connectable (engine/connection) or database string URI or sqlite3 DBAPI2 connection. Other DBAPI2 objects are not tested. Please consider using SQLAlchemy.\n",
      "  top_products = pd.read_sql(query, cn)    ## read_sql() takes 2 param, the query string and the connection instance\n"
     ]
    },
    {
     "name": "stdout",
     "output_type": "stream",
     "text": [
      "     productID                       Name  ListPrice SellStartDate\n",
      "0          749           Road-150 Red, 62    3578.27    2005-07-01\n",
      "1          750           Road-150 Red, 44    3578.27    2005-07-01\n",
      "2          751           Road-150 Red, 48    3578.27    2005-07-01\n",
      "3          752           Road-150 Red, 52    3578.27    2005-07-01\n",
      "4          753           Road-150 Red, 56    3578.27    2005-07-01\n",
      "..         ...                        ...        ...           ...\n",
      "97         770         Road-650 Black, 52     782.99    2005-07-01\n",
      "98         980  Mountain-400-W Silver, 38     769.49    2007-07-01\n",
      "99         981  Mountain-400-W Silver, 40     769.49    2007-07-01\n",
      "100        982  Mountain-400-W Silver, 42     769.49    2007-07-01\n",
      "101        983  Mountain-400-W Silver, 46     769.49    2007-07-01\n",
      "\n",
      "[102 rows x 4 columns]\n",
      "<class 'pandas.core.frame.DataFrame'>\n",
      "RangeIndex: 102 entries, 0 to 101\n",
      "Data columns (total 4 columns):\n",
      " #   Column         Non-Null Count  Dtype         \n",
      "---  ------         --------------  -----         \n",
      " 0   productID      102 non-null    int64         \n",
      " 1   Name           102 non-null    object        \n",
      " 2   ListPrice      102 non-null    float64       \n",
      " 3   SellStartDate  102 non-null    datetime64[ns]\n",
      "dtypes: datetime64[ns](1), float64(1), int64(1), object(1)\n",
      "memory usage: 3.3+ KB\n"
     ]
    }
   ],
   "source": [
    "## CONNECT TO A AZURE SQL DATABASE\n",
    "\n",
    "import pyodbc           ## importing pyodbc library to work with pyodbc class\n",
    "import pandas as pd\n",
    "from getpass import getpass\n",
    "\n",
    "## Azure SQL DB credentials\n",
    "server = 'lvtestserver.database.windows.net'\n",
    "database = 'lucasvdb'\n",
    "username = 'lucasvitantonio'\n",
    "password = getpass()    # creates an input when executing the code to type in the pass\n",
    "driver= '{ODBC Driver 18 for SQL Server}'\n",
    "connection_string= 'Driver='+driver+';SERVER=tcp:'+server+';PORT=1433;DATABASE='+database+';UID='+username+';PWD='+ password\n",
    "\n",
    "## creates an connection with connect() method (instance of pyodbc class)\n",
    "cn = pyodbc.connect(connection_string)\n",
    "\n",
    "## store the query into query variable\n",
    "query = \"SELECT productID, Name, ListPrice, SellStartDate FROM SalesLT.Product WHERE ListPrice > (SELECT AVG(ListPrice) FROM SalesLT.Product) ORDER BY ListPrice DESC\"\n",
    "\n",
    "## creating cursor and executing query inside the with statement allows \n",
    "## me to run queries with the same connection without having to close the conn.\n",
    "with cn:\n",
    "    # creates a cursor to work with\n",
    "    cursor  = cn.cursor()\n",
    "    # executes query\n",
    "    cursor.execute(query)\n",
    "\n",
    "    \n",
    "# creates and stores the query into a table called 'table'\n",
    "top_products = pd.read_sql(query, cn)    ## read_sql() takes 2 param, the query string and the connection instance\n",
    "\n",
    "## closes connection with the database after using it\n",
    "cn.close()\n",
    "\n",
    "## checks new table\n",
    "print(top_products)\n",
    "top_products.info()\n"
   ]
  },
  {
   "cell_type": "code",
   "execution_count": null,
   "metadata": {},
   "outputs": [],
   "source": [
    "## PUSHING THE NEW TABLE INTO THE CLOUD STORAGE AS BLOB\n",
    "\n",
    "## importing modules\n",
    "from azure.storage.blob import BlobServiceClient\n",
    "\n",
    "## parsing table to CSV file type\n",
    "top_products_csv = top_products.to_csv(index=False)\n",
    "\n",
    "## credentials\n",
    "connection_string = \"DefaultEndpointsProtocol=https;AccountName=storagelucasv;AccountKey=nfshKMTaX1gRybJy+o4SYnrrqJJYAm5ooBwUKaZi7cm0V8PG4w7pQrn40O2qlRGhbJiH2iahS6sm+AStAJFMTA==;EndpointSuffix=core.windows.net\"\n",
    "container_name = \"testcontainer\"\n",
    "blob_name = 'top_products.csv'\n",
    "\n",
    "## creats a connection client\n",
    "service_client = BlobServiceClient.from_connection_string(connection_string)\n",
    "\n",
    "## gets the client to interact with the container in my Azure suscription\n",
    "container_client = service_client.get_container_client(container_name)\n",
    "\n",
    "## gets the client to interact with the specified blob\n",
    "blob_client = container_client.get_blob_client(blob_name)\n",
    "\n",
    "# Creates a new blob from a data source with automatic chunking.\n",
    "blob_client.upload_blob(top_products_csv, overwrite=True)"
   ]
  },
  {
   "cell_type": "code",
   "execution_count": null,
   "metadata": {},
   "outputs": [],
   "source": []
  }
 ],
 "metadata": {
  "kernelspec": {
   "display_name": "Python 3",
   "language": "python",
   "name": "python3"
  },
  "language_info": {
   "codemirror_mode": {
    "name": "ipython",
    "version": 3
   },
   "file_extension": ".py",
   "mimetype": "text/x-python",
   "name": "python",
   "nbconvert_exporter": "python",
   "pygments_lexer": "ipython3",
   "version": "3.10.10"
  },
  "orig_nbformat": 4
 },
 "nbformat": 4,
 "nbformat_minor": 2
}
